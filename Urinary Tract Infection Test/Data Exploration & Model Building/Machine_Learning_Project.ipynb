{
  "cells": [
    {
      "cell_type": "markdown",
      "metadata": {
        "id": "9JNgZ_2CziIn"
      },
      "source": [
        "# Dataset Download"
      ]
    },
    {
      "cell_type": "markdown",
      "metadata": {
        "id": "EcgAqirazpJN"
      },
      "source": [
        "# Exploratory Data Analysis"
      ]
    },
    {
      "cell_type": "code",
      "execution_count": 1,
      "metadata": {
        "id": "HH_QuWghqCNG"
      },
      "outputs": [],
      "source": [
        "import numpy as np\n",
        "import pandas as pd\n",
        "import seaborn as sns\n",
        "import matplotlib.pyplot as plt"
      ]
    },
    {
      "cell_type": "code",
      "execution_count": 2,
      "metadata": {
        "id": "mE-jFTvgqJpy"
      },
      "outputs": [],
      "source": [
        "dataset = pd.read_csv('urinalysis_tests.csv')"
      ]
    },
    {
      "cell_type": "code",
      "execution_count": 3,
      "metadata": {
        "colab": {
          "base_uri": "https://localhost:8080/",
          "height": 1000
        },
        "id": "P1uL7kTdqQjE",
        "outputId": "b3718ac2-1d91-46ae-8daa-7c43a5875c1e"
      },
      "outputs": [
        {
          "data": {
            "text/html": [
              "<div>\n",
              "<style scoped>\n",
              "    .dataframe tbody tr th:only-of-type {\n",
              "        vertical-align: middle;\n",
              "    }\n",
              "\n",
              "    .dataframe tbody tr th {\n",
              "        vertical-align: top;\n",
              "    }\n",
              "\n",
              "    .dataframe thead th {\n",
              "        text-align: right;\n",
              "    }\n",
              "</style>\n",
              "<table border=\"1\" class=\"dataframe\">\n",
              "  <thead>\n",
              "    <tr style=\"text-align: right;\">\n",
              "      <th></th>\n",
              "      <th>Unnamed: 0</th>\n",
              "      <th>Age</th>\n",
              "      <th>Gender</th>\n",
              "      <th>Color</th>\n",
              "      <th>Transparency</th>\n",
              "      <th>Glucose</th>\n",
              "      <th>Protein</th>\n",
              "      <th>pH</th>\n",
              "      <th>Specific Gravity</th>\n",
              "      <th>WBC</th>\n",
              "      <th>RBC</th>\n",
              "      <th>Epithelial Cells</th>\n",
              "      <th>Mucous Threads</th>\n",
              "      <th>Amorphous Urates</th>\n",
              "      <th>Bacteria</th>\n",
              "      <th>Diagnosis</th>\n",
              "    </tr>\n",
              "  </thead>\n",
              "  <tbody>\n",
              "    <tr>\n",
              "      <th>0</th>\n",
              "      <td>0</td>\n",
              "      <td>76.0</td>\n",
              "      <td>FEMALE</td>\n",
              "      <td>LIGHT YELLOW</td>\n",
              "      <td>CLEAR</td>\n",
              "      <td>NEGATIVE</td>\n",
              "      <td>NEGATIVE</td>\n",
              "      <td>5.0</td>\n",
              "      <td>1.010</td>\n",
              "      <td>1-3</td>\n",
              "      <td>0-2</td>\n",
              "      <td>OCCASIONAL</td>\n",
              "      <td>RARE</td>\n",
              "      <td>NONE SEEN</td>\n",
              "      <td>OCCASIONAL</td>\n",
              "      <td>NEGATIVE</td>\n",
              "    </tr>\n",
              "    <tr>\n",
              "      <th>1</th>\n",
              "      <td>1</td>\n",
              "      <td>9.0</td>\n",
              "      <td>MALE</td>\n",
              "      <td>DARK YELLOW</td>\n",
              "      <td>SLIGHTLY HAZY</td>\n",
              "      <td>NEGATIVE</td>\n",
              "      <td>1+</td>\n",
              "      <td>5.0</td>\n",
              "      <td>1.030</td>\n",
              "      <td>1-3</td>\n",
              "      <td>0-2</td>\n",
              "      <td>RARE</td>\n",
              "      <td>FEW</td>\n",
              "      <td>FEW</td>\n",
              "      <td>MODERATE</td>\n",
              "      <td>NEGATIVE</td>\n",
              "    </tr>\n",
              "    <tr>\n",
              "      <th>2</th>\n",
              "      <td>2</td>\n",
              "      <td>12.0</td>\n",
              "      <td>MALE</td>\n",
              "      <td>LIGHT YELLOW</td>\n",
              "      <td>SLIGHTLY HAZY</td>\n",
              "      <td>NEGATIVE</td>\n",
              "      <td>TRACE</td>\n",
              "      <td>5.0</td>\n",
              "      <td>1.030</td>\n",
              "      <td>0-3</td>\n",
              "      <td>0-2</td>\n",
              "      <td>RARE</td>\n",
              "      <td>FEW</td>\n",
              "      <td>MODERATE</td>\n",
              "      <td>RARE</td>\n",
              "      <td>NEGATIVE</td>\n",
              "    </tr>\n",
              "    <tr>\n",
              "      <th>3</th>\n",
              "      <td>3</td>\n",
              "      <td>77.0</td>\n",
              "      <td>MALE</td>\n",
              "      <td>BROWN</td>\n",
              "      <td>CLOUDY</td>\n",
              "      <td>NEGATIVE</td>\n",
              "      <td>1+</td>\n",
              "      <td>6.0</td>\n",
              "      <td>1.020</td>\n",
              "      <td>5-8</td>\n",
              "      <td>LOADED</td>\n",
              "      <td>RARE</td>\n",
              "      <td>RARE</td>\n",
              "      <td>NONE SEEN</td>\n",
              "      <td>FEW</td>\n",
              "      <td>NEGATIVE</td>\n",
              "    </tr>\n",
              "    <tr>\n",
              "      <th>4</th>\n",
              "      <td>4</td>\n",
              "      <td>29.0</td>\n",
              "      <td>FEMALE</td>\n",
              "      <td>YELLOW</td>\n",
              "      <td>HAZY</td>\n",
              "      <td>NEGATIVE</td>\n",
              "      <td>TRACE</td>\n",
              "      <td>6.0</td>\n",
              "      <td>1.025</td>\n",
              "      <td>1-4</td>\n",
              "      <td>0-2</td>\n",
              "      <td>RARE</td>\n",
              "      <td>RARE</td>\n",
              "      <td>NONE SEEN</td>\n",
              "      <td>FEW</td>\n",
              "      <td>NEGATIVE</td>\n",
              "    </tr>\n",
              "    <tr>\n",
              "      <th>5</th>\n",
              "      <td>5</td>\n",
              "      <td>50.0</td>\n",
              "      <td>FEMALE</td>\n",
              "      <td>DARK YELLOW</td>\n",
              "      <td>HAZY</td>\n",
              "      <td>NEGATIVE</td>\n",
              "      <td>2+</td>\n",
              "      <td>6.0</td>\n",
              "      <td>1.020</td>\n",
              "      <td>0-3</td>\n",
              "      <td>0-2</td>\n",
              "      <td>PLENTY</td>\n",
              "      <td>FEW</td>\n",
              "      <td>NONE SEEN</td>\n",
              "      <td>FEW</td>\n",
              "      <td>NEGATIVE</td>\n",
              "    </tr>\n",
              "    <tr>\n",
              "      <th>6</th>\n",
              "      <td>6</td>\n",
              "      <td>3.0</td>\n",
              "      <td>MALE</td>\n",
              "      <td>LIGHT YELLOW</td>\n",
              "      <td>CLEAR</td>\n",
              "      <td>NEGATIVE</td>\n",
              "      <td>NEGATIVE</td>\n",
              "      <td>7.0</td>\n",
              "      <td>1.005</td>\n",
              "      <td>0-3</td>\n",
              "      <td>0-2</td>\n",
              "      <td>RARE</td>\n",
              "      <td>RARE</td>\n",
              "      <td>NONE SEEN</td>\n",
              "      <td>RARE</td>\n",
              "      <td>NEGATIVE</td>\n",
              "    </tr>\n",
              "    <tr>\n",
              "      <th>7</th>\n",
              "      <td>7</td>\n",
              "      <td>23.0</td>\n",
              "      <td>FEMALE</td>\n",
              "      <td>LIGHT YELLOW</td>\n",
              "      <td>SLIGHTLY HAZY</td>\n",
              "      <td>NEGATIVE</td>\n",
              "      <td>NEGATIVE</td>\n",
              "      <td>7.0</td>\n",
              "      <td>1.005</td>\n",
              "      <td>3-5</td>\n",
              "      <td>1-2</td>\n",
              "      <td>MODERATE</td>\n",
              "      <td>FEW</td>\n",
              "      <td>NONE SEEN</td>\n",
              "      <td>FEW</td>\n",
              "      <td>NEGATIVE</td>\n",
              "    </tr>\n",
              "    <tr>\n",
              "      <th>8</th>\n",
              "      <td>8</td>\n",
              "      <td>8.0</td>\n",
              "      <td>MALE</td>\n",
              "      <td>YELLOW</td>\n",
              "      <td>SLIGHTLY HAZY</td>\n",
              "      <td>NEGATIVE</td>\n",
              "      <td>TRACE</td>\n",
              "      <td>6.0</td>\n",
              "      <td>1.030</td>\n",
              "      <td>1-3</td>\n",
              "      <td>0-2</td>\n",
              "      <td>RARE</td>\n",
              "      <td>FEW</td>\n",
              "      <td>NONE SEEN</td>\n",
              "      <td>FEW</td>\n",
              "      <td>NEGATIVE</td>\n",
              "    </tr>\n",
              "    <tr>\n",
              "      <th>9</th>\n",
              "      <td>9</td>\n",
              "      <td>2.0</td>\n",
              "      <td>FEMALE</td>\n",
              "      <td>YELLOW</td>\n",
              "      <td>HAZY</td>\n",
              "      <td>NEGATIVE</td>\n",
              "      <td>TRACE</td>\n",
              "      <td>7.5</td>\n",
              "      <td>1.010</td>\n",
              "      <td>70-75</td>\n",
              "      <td>2-4</td>\n",
              "      <td>RARE</td>\n",
              "      <td>FEW</td>\n",
              "      <td>NONE SEEN</td>\n",
              "      <td>PLENTY</td>\n",
              "      <td>POSITIVE</td>\n",
              "    </tr>\n",
              "    <tr>\n",
              "      <th>10</th>\n",
              "      <td>10</td>\n",
              "      <td>65.0</td>\n",
              "      <td>MALE</td>\n",
              "      <td>LIGHT YELLOW</td>\n",
              "      <td>CLEAR</td>\n",
              "      <td>NEGATIVE</td>\n",
              "      <td>NEGATIVE</td>\n",
              "      <td>6.0</td>\n",
              "      <td>1.010</td>\n",
              "      <td>0-2</td>\n",
              "      <td>0-1</td>\n",
              "      <td>RARE</td>\n",
              "      <td>RARE</td>\n",
              "      <td>NONE SEEN</td>\n",
              "      <td>RARE</td>\n",
              "      <td>NEGATIVE</td>\n",
              "    </tr>\n",
              "    <tr>\n",
              "      <th>11</th>\n",
              "      <td>11</td>\n",
              "      <td>62.0</td>\n",
              "      <td>FEMALE</td>\n",
              "      <td>LIGHT YELLOW</td>\n",
              "      <td>CLEAR</td>\n",
              "      <td>NEGATIVE</td>\n",
              "      <td>TRACE</td>\n",
              "      <td>6.0</td>\n",
              "      <td>1.020</td>\n",
              "      <td>1-3</td>\n",
              "      <td>6-14</td>\n",
              "      <td>FEW</td>\n",
              "      <td>RARE</td>\n",
              "      <td>NONE SEEN</td>\n",
              "      <td>FEW</td>\n",
              "      <td>NEGATIVE</td>\n",
              "    </tr>\n",
              "    <tr>\n",
              "      <th>12</th>\n",
              "      <td>12</td>\n",
              "      <td>18.0</td>\n",
              "      <td>FEMALE</td>\n",
              "      <td>LIGHT YELLOW</td>\n",
              "      <td>CLEAR</td>\n",
              "      <td>NEGATIVE</td>\n",
              "      <td>NEGATIVE</td>\n",
              "      <td>6.5</td>\n",
              "      <td>1.005</td>\n",
              "      <td>0-2</td>\n",
              "      <td>2-4</td>\n",
              "      <td>RARE</td>\n",
              "      <td>NONE SEEN</td>\n",
              "      <td>NONE SEEN</td>\n",
              "      <td>RARE</td>\n",
              "      <td>NEGATIVE</td>\n",
              "    </tr>\n",
              "    <tr>\n",
              "      <th>13</th>\n",
              "      <td>13</td>\n",
              "      <td>3.0</td>\n",
              "      <td>FEMALE</td>\n",
              "      <td>DARK YELLOW</td>\n",
              "      <td>CLEAR</td>\n",
              "      <td>NEGATIVE</td>\n",
              "      <td>TRACE</td>\n",
              "      <td>6.0</td>\n",
              "      <td>1.025</td>\n",
              "      <td>0-2</td>\n",
              "      <td>1-2</td>\n",
              "      <td>RARE</td>\n",
              "      <td>MODERATE</td>\n",
              "      <td>NONE SEEN</td>\n",
              "      <td>RARE</td>\n",
              "      <td>NEGATIVE</td>\n",
              "    </tr>\n",
              "    <tr>\n",
              "      <th>14</th>\n",
              "      <td>14</td>\n",
              "      <td>31.0</td>\n",
              "      <td>FEMALE</td>\n",
              "      <td>YELLOW</td>\n",
              "      <td>CLEAR</td>\n",
              "      <td>NEGATIVE</td>\n",
              "      <td>NEGATIVE</td>\n",
              "      <td>6.0</td>\n",
              "      <td>1.015</td>\n",
              "      <td>1-2</td>\n",
              "      <td>0-2</td>\n",
              "      <td>PLENTY</td>\n",
              "      <td>FEW</td>\n",
              "      <td>NONE SEEN</td>\n",
              "      <td>FEW</td>\n",
              "      <td>NEGATIVE</td>\n",
              "    </tr>\n",
              "    <tr>\n",
              "      <th>15</th>\n",
              "      <td>15</td>\n",
              "      <td>44.0</td>\n",
              "      <td>MALE</td>\n",
              "      <td>AMBER</td>\n",
              "      <td>CLEAR</td>\n",
              "      <td>NEGATIVE</td>\n",
              "      <td>1+</td>\n",
              "      <td>6.0</td>\n",
              "      <td>1.020</td>\n",
              "      <td>2-4</td>\n",
              "      <td>9-12</td>\n",
              "      <td>RARE</td>\n",
              "      <td>RARE</td>\n",
              "      <td>NONE SEEN</td>\n",
              "      <td>MODERATE</td>\n",
              "      <td>NEGATIVE</td>\n",
              "    </tr>\n",
              "    <tr>\n",
              "      <th>16</th>\n",
              "      <td>16</td>\n",
              "      <td>32.0</td>\n",
              "      <td>FEMALE</td>\n",
              "      <td>LIGHT YELLOW</td>\n",
              "      <td>CLOUDY</td>\n",
              "      <td>NEGATIVE</td>\n",
              "      <td>TRACE</td>\n",
              "      <td>6.5</td>\n",
              "      <td>1.015</td>\n",
              "      <td>6-8</td>\n",
              "      <td>0-2</td>\n",
              "      <td>FEW</td>\n",
              "      <td>NONE SEEN</td>\n",
              "      <td>PLENTY</td>\n",
              "      <td>RARE</td>\n",
              "      <td>NEGATIVE</td>\n",
              "    </tr>\n",
              "    <tr>\n",
              "      <th>17</th>\n",
              "      <td>17</td>\n",
              "      <td>26.0</td>\n",
              "      <td>MALE</td>\n",
              "      <td>YELLOW</td>\n",
              "      <td>CLEAR</td>\n",
              "      <td>NEGATIVE</td>\n",
              "      <td>NEGATIVE</td>\n",
              "      <td>6.0</td>\n",
              "      <td>1.015</td>\n",
              "      <td>1-3</td>\n",
              "      <td>0-2</td>\n",
              "      <td>RARE</td>\n",
              "      <td>FEW</td>\n",
              "      <td>NONE SEEN</td>\n",
              "      <td>RARE</td>\n",
              "      <td>NEGATIVE</td>\n",
              "    </tr>\n",
              "    <tr>\n",
              "      <th>18</th>\n",
              "      <td>18</td>\n",
              "      <td>1.0</td>\n",
              "      <td>MALE</td>\n",
              "      <td>YELLOW</td>\n",
              "      <td>CLEAR</td>\n",
              "      <td>NEGATIVE</td>\n",
              "      <td>NEGATIVE</td>\n",
              "      <td>6.0</td>\n",
              "      <td>1.030</td>\n",
              "      <td>1-2</td>\n",
              "      <td>0-2</td>\n",
              "      <td>RARE</td>\n",
              "      <td>MODERATE</td>\n",
              "      <td>NONE SEEN</td>\n",
              "      <td>MODERATE</td>\n",
              "      <td>NEGATIVE</td>\n",
              "    </tr>\n",
              "    <tr>\n",
              "      <th>19</th>\n",
              "      <td>19</td>\n",
              "      <td>30.0</td>\n",
              "      <td>FEMALE</td>\n",
              "      <td>STRAW</td>\n",
              "      <td>CLEAR</td>\n",
              "      <td>NEGATIVE</td>\n",
              "      <td>NEGATIVE</td>\n",
              "      <td>6.5</td>\n",
              "      <td>1.005</td>\n",
              "      <td>0-2</td>\n",
              "      <td>1-3</td>\n",
              "      <td>RARE</td>\n",
              "      <td>NONE SEEN</td>\n",
              "      <td>NONE SEEN</td>\n",
              "      <td>RARE</td>\n",
              "      <td>NEGATIVE</td>\n",
              "    </tr>\n",
              "  </tbody>\n",
              "</table>\n",
              "</div>"
            ],
            "text/plain": [
              "    Unnamed: 0   Age  Gender         Color   Transparency   Glucose   Protein  \\\n",
              "0            0  76.0  FEMALE  LIGHT YELLOW          CLEAR  NEGATIVE  NEGATIVE   \n",
              "1            1   9.0    MALE   DARK YELLOW  SLIGHTLY HAZY  NEGATIVE        1+   \n",
              "2            2  12.0    MALE  LIGHT YELLOW  SLIGHTLY HAZY  NEGATIVE     TRACE   \n",
              "3            3  77.0    MALE         BROWN         CLOUDY  NEGATIVE        1+   \n",
              "4            4  29.0  FEMALE        YELLOW           HAZY  NEGATIVE     TRACE   \n",
              "5            5  50.0  FEMALE   DARK YELLOW           HAZY  NEGATIVE        2+   \n",
              "6            6   3.0    MALE  LIGHT YELLOW          CLEAR  NEGATIVE  NEGATIVE   \n",
              "7            7  23.0  FEMALE  LIGHT YELLOW  SLIGHTLY HAZY  NEGATIVE  NEGATIVE   \n",
              "8            8   8.0    MALE        YELLOW  SLIGHTLY HAZY  NEGATIVE     TRACE   \n",
              "9            9   2.0  FEMALE        YELLOW           HAZY  NEGATIVE     TRACE   \n",
              "10          10  65.0    MALE  LIGHT YELLOW          CLEAR  NEGATIVE  NEGATIVE   \n",
              "11          11  62.0  FEMALE  LIGHT YELLOW          CLEAR  NEGATIVE     TRACE   \n",
              "12          12  18.0  FEMALE  LIGHT YELLOW          CLEAR  NEGATIVE  NEGATIVE   \n",
              "13          13   3.0  FEMALE   DARK YELLOW          CLEAR  NEGATIVE     TRACE   \n",
              "14          14  31.0  FEMALE        YELLOW          CLEAR  NEGATIVE  NEGATIVE   \n",
              "15          15  44.0    MALE         AMBER          CLEAR  NEGATIVE        1+   \n",
              "16          16  32.0  FEMALE  LIGHT YELLOW         CLOUDY  NEGATIVE     TRACE   \n",
              "17          17  26.0    MALE        YELLOW          CLEAR  NEGATIVE  NEGATIVE   \n",
              "18          18   1.0    MALE        YELLOW          CLEAR  NEGATIVE  NEGATIVE   \n",
              "19          19  30.0  FEMALE         STRAW          CLEAR  NEGATIVE  NEGATIVE   \n",
              "\n",
              "     pH  Specific Gravity    WBC     RBC Epithelial Cells Mucous Threads  \\\n",
              "0   5.0             1.010    1-3     0-2       OCCASIONAL           RARE   \n",
              "1   5.0             1.030    1-3     0-2             RARE            FEW   \n",
              "2   5.0             1.030    0-3     0-2             RARE            FEW   \n",
              "3   6.0             1.020    5-8  LOADED             RARE           RARE   \n",
              "4   6.0             1.025    1-4     0-2             RARE           RARE   \n",
              "5   6.0             1.020    0-3     0-2           PLENTY            FEW   \n",
              "6   7.0             1.005    0-3     0-2             RARE           RARE   \n",
              "7   7.0             1.005    3-5     1-2         MODERATE            FEW   \n",
              "8   6.0             1.030    1-3     0-2             RARE            FEW   \n",
              "9   7.5             1.010  70-75     2-4             RARE            FEW   \n",
              "10  6.0             1.010    0-2     0-1             RARE           RARE   \n",
              "11  6.0             1.020    1-3    6-14              FEW           RARE   \n",
              "12  6.5             1.005    0-2     2-4             RARE      NONE SEEN   \n",
              "13  6.0             1.025    0-2     1-2             RARE       MODERATE   \n",
              "14  6.0             1.015    1-2     0-2           PLENTY            FEW   \n",
              "15  6.0             1.020    2-4    9-12             RARE           RARE   \n",
              "16  6.5             1.015    6-8     0-2              FEW      NONE SEEN   \n",
              "17  6.0             1.015    1-3     0-2             RARE            FEW   \n",
              "18  6.0             1.030    1-2     0-2             RARE       MODERATE   \n",
              "19  6.5             1.005    0-2     1-3             RARE      NONE SEEN   \n",
              "\n",
              "   Amorphous Urates    Bacteria Diagnosis  \n",
              "0         NONE SEEN  OCCASIONAL  NEGATIVE  \n",
              "1               FEW    MODERATE  NEGATIVE  \n",
              "2          MODERATE        RARE  NEGATIVE  \n",
              "3         NONE SEEN         FEW  NEGATIVE  \n",
              "4         NONE SEEN         FEW  NEGATIVE  \n",
              "5         NONE SEEN         FEW  NEGATIVE  \n",
              "6         NONE SEEN        RARE  NEGATIVE  \n",
              "7         NONE SEEN         FEW  NEGATIVE  \n",
              "8         NONE SEEN         FEW  NEGATIVE  \n",
              "9         NONE SEEN      PLENTY  POSITIVE  \n",
              "10        NONE SEEN        RARE  NEGATIVE  \n",
              "11        NONE SEEN         FEW  NEGATIVE  \n",
              "12        NONE SEEN        RARE  NEGATIVE  \n",
              "13        NONE SEEN        RARE  NEGATIVE  \n",
              "14        NONE SEEN         FEW  NEGATIVE  \n",
              "15        NONE SEEN    MODERATE  NEGATIVE  \n",
              "16           PLENTY        RARE  NEGATIVE  \n",
              "17        NONE SEEN        RARE  NEGATIVE  \n",
              "18        NONE SEEN    MODERATE  NEGATIVE  \n",
              "19        NONE SEEN        RARE  NEGATIVE  "
            ]
          },
          "execution_count": 3,
          "metadata": {},
          "output_type": "execute_result"
        }
      ],
      "source": [
        "dataset.head(20)"
      ]
    },
    {
      "cell_type": "code",
      "execution_count": 4,
      "metadata": {
        "colab": {
          "base_uri": "https://localhost:8080/",
          "height": 680
        },
        "id": "TetqDhFYFJX1",
        "outputId": "fc28f54e-221b-4f5d-a1cb-929b67bf43a7"
      },
      "outputs": [
        {
          "name": "stderr",
          "output_type": "stream",
          "text": [
            "C:\\Users\\USER\\AppData\\Local\\Temp\\ipykernel_12352\\1351000462.py:1: UserWarning: \n",
            "\n",
            "`distplot` is a deprecated function and will be removed in seaborn v0.14.0.\n",
            "\n",
            "Please adapt your code to use either `displot` (a figure-level function with\n",
            "similar flexibility) or `histplot` (an axes-level function for histograms).\n",
            "\n",
            "For a guide to updating your code to use the new functions, please see\n",
            "https://gist.github.com/mwaskom/de44147ed2974457ad6372750bbe5751\n",
            "\n",
            "  sns.distplot(dataset['Age'], label = 'Skewness: %.2f' % (dataset['Age'].skew()))\n"
          ]
        },
        {
          "data": {
            "text/plain": [
              "Text(0.5, 1.0, 'Dataset Age Distribution')"
            ]
          },
          "execution_count": 4,
          "metadata": {},
          "output_type": "execute_result"
        },
        {
          "data": {
            "image/png": "[encoded data removed]",
            "text/plain": [
              "<Figure size 640x480 with 1 Axes>"
            ]
          },
          "metadata": {},
          "output_type": "display_data"
        }
      ],
      "source": [
        "sns.distplot(dataset['Age'], label = 'Skewness: %.2f' % (dataset['Age'].skew()))\n",
        "plt.legend(loc = 'best')\n",
        "plt.title('Dataset Age Distribution')"
      ]
    },
    {
      "cell_type": "code",
      "execution_count": 5,
      "metadata": {
        "colab": {
          "base_uri": "https://localhost:8080/"
        },
        "id": "66cBqYVwzcJt",
        "outputId": "9ebc8f00-dbe5-4cd8-cd5a-d209c1d8af7a"
      },
      "outputs": [
        {
          "name": "stdout",
          "output_type": "stream",
          "text": [
            "Color\n",
            "YELLOW            710\n",
            "LIGHT YELLOW      341\n",
            "DARK YELLOW       248\n",
            "STRAW             116\n",
            "AMBER              15\n",
            "BROWN               1\n",
            "RED                 1\n",
            "REDDISH             1\n",
            "REDDISH YELLOW      1\n",
            "LIGHT RED           1\n",
            "Name: count, dtype: int64\n"
          ]
        }
      ],
      "source": [
        "colorinfo = dataset['Color'].value_counts()\n",
        "print(colorinfo)"
      ]
    },
    {
      "cell_type": "code",
      "execution_count": 6,
      "metadata": {
        "colab": {
          "base_uri": "https://localhost:8080/"
        },
        "id": "txVm2kte0bcr",
        "outputId": "79000513-512d-48e1-82ec-e18a0db52ad3"
      },
      "outputs": [
        {
          "name": "stdout",
          "output_type": "stream",
          "text": [
            "Transparency\n",
            "CLEAR            1124\n",
            "SLIGHTLY HAZY     172\n",
            "HAZY              104\n",
            "TURBID             20\n",
            "CLOUDY             16\n",
            "Name: count, dtype: int64\n"
          ]
        }
      ],
      "source": [
        "transparancyinfo = dataset['Transparency'].value_counts()\n",
        "print(transparancyinfo)"
      ]
    },
    {
      "cell_type": "code",
      "execution_count": 7,
      "metadata": {
        "colab": {
          "base_uri": "https://localhost:8080/"
        },
        "id": "E-saSqCSCGzF",
        "outputId": "8e551582-c977-491a-a4e8-eea1c8758071"
      },
      "outputs": [
        {
          "name": "stdout",
          "output_type": "stream",
          "text": [
            "Glucose\n",
            "NEGATIVE    1349\n",
            "2+            24\n",
            "3+            23\n",
            "1+            15\n",
            "TRACE         13\n",
            "4+            12\n",
            "Name: count, dtype: int64\n"
          ]
        }
      ],
      "source": [
        "gluinfo = dataset['Glucose'].value_counts()\n",
        "print(gluinfo)"
      ]
    },
    {
      "cell_type": "code",
      "execution_count": 8,
      "metadata": {
        "colab": {
          "base_uri": "https://localhost:8080/"
        },
        "id": "9on3wTdU0rSe",
        "outputId": "a77c85da-ab39-4a40-c1b9-0351be361829"
      },
      "outputs": [
        {
          "name": "stdout",
          "output_type": "stream",
          "text": [
            "Protein\n",
            "NEGATIVE    804\n",
            "TRACE       492\n",
            "1+           94\n",
            "2+           41\n",
            "3+            5\n",
            "Name: count, dtype: int64\n"
          ]
        }
      ],
      "source": [
        "protinfo = dataset['Protein'].value_counts()\n",
        "print(protinfo)"
      ]
    },
    {
      "cell_type": "code",
      "execution_count": 9,
      "metadata": {
        "colab": {
          "base_uri": "https://localhost:8080/"
        },
        "id": "bcK2gUPq0_pm",
        "outputId": "5f71c8f0-7f43-49c5-c530-864c9c091830"
      },
      "outputs": [
        {
          "name": "stdout",
          "output_type": "stream",
          "text": [
            "pH\n",
            "6.0    759\n",
            "6.5    305\n",
            "5.0    237\n",
            "7.0     96\n",
            "7.5     27\n",
            "8.0     12\n",
            "Name: count, dtype: int64\n"
          ]
        }
      ],
      "source": [
        "phinfo = dataset['pH'].value_counts()\n",
        "print(phinfo)"
      ]
    },
    {
      "cell_type": "code",
      "execution_count": 10,
      "metadata": {
        "colab": {
          "base_uri": "https://localhost:8080/",
          "height": 706
        },
        "id": "3NCHQ9zoELB-",
        "outputId": "510af366-9269-43ef-f7a5-fafefe06eb0f"
      },
      "outputs": [
        {
          "name": "stderr",
          "output_type": "stream",
          "text": [
            "c:\\Users\\USER\\AppData\\Roaming\\Python\\Python311\\environments\\nlp\\lib\\site-packages\\seaborn\\axisgrid.py:854: UserWarning: \n",
            "\n",
            "`distplot` is a deprecated function and will be removed in seaborn v0.14.0.\n",
            "\n",
            "Please adapt your code to use either `displot` (a figure-level function with\n",
            "similar flexibility) or `histplot` (an axes-level function for histograms).\n",
            "\n",
            "For a guide to updating your code to use the new functions, please see\n",
            "https://gist.github.com/mwaskom/de44147ed2974457ad6372750bbe5751\n",
            "\n",
            "  func(*plot_args, **plot_kwargs)\n",
            "c:\\Users\\USER\\AppData\\Roaming\\Python\\Python311\\environments\\nlp\\lib\\site-packages\\seaborn\\axisgrid.py:854: UserWarning: \n",
            "\n",
            "`distplot` is a deprecated function and will be removed in seaborn v0.14.0.\n",
            "\n",
            "Please adapt your code to use either `displot` (a figure-level function with\n",
            "similar flexibility) or `histplot` (an axes-level function for histograms).\n",
            "\n",
            "For a guide to updating your code to use the new functions, please see\n",
            "https://gist.github.com/mwaskom/de44147ed2974457ad6372750bbe5751\n",
            "\n",
            "  func(*plot_args, **plot_kwargs)\n"
          ]
        },
        {
          "data": {
            "text/plain": [
              "<seaborn.axisgrid.FacetGrid at 0x2402225c8e0>"
            ]
          },
          "execution_count": 10,
          "metadata": {},
          "output_type": "execute_result"
        },
        {
          "data": {
            "image/png": "[encoded data removed]",
            "text/plain": [
              "<Figure size 600x300 with 2 Axes>"
            ]
          },
          "metadata": {},
          "output_type": "display_data"
        }
      ],
      "source": [
        "g = sns.FacetGrid(dataset, col = 'Diagnosis')\n",
        "g.map(sns.distplot, 'pH')"
      ]
    },
    {
      "cell_type": "code",
      "execution_count": 11,
      "metadata": {
        "id": "97uWNLrVGdH0"
      },
      "outputs": [],
      "source": [
        "# dari plottingan diatas kita dapat menyadari bahwa pH tidak berpengaruh terlalu banyak terhadap diagnosa\n",
        "# dikarenakan penyebaran nilai pH urin itu setara antara diagnosa positive maupun negative"
      ]
    },
    {
      "cell_type": "code",
      "execution_count": 12,
      "metadata": {
        "colab": {
          "base_uri": "https://localhost:8080/"
        },
        "id": "MiOEsvgaB7zc",
        "outputId": "86993320-a4af-41e9-b8b3-37d7352300ef"
      },
      "outputs": [
        {
          "name": "stdout",
          "output_type": "stream",
          "text": [
            "Specific Gravity\n",
            "1.010    400\n",
            "1.015    354\n",
            "1.025    212\n",
            "1.020    200\n",
            "1.005    158\n",
            "1.030    112\n",
            "Name: count, dtype: int64\n"
          ]
        }
      ],
      "source": [
        "SGinfo = dataset['Specific Gravity'].value_counts()\n",
        "print(SGinfo)"
      ]
    },
    {
      "cell_type": "code",
      "execution_count": 13,
      "metadata": {
        "colab": {
          "base_uri": "https://localhost:8080/"
        },
        "id": "YcwhTR79CWH3",
        "outputId": "dc156361-e39b-4d4a-f861-5e96d28f921e"
      },
      "outputs": [
        {
          "name": "stdout",
          "output_type": "stream",
          "text": [
            "WBC\n",
            "0-2      448\n",
            "1-2      151\n",
            "0-1      136\n",
            "2-4      114\n",
            "1-3      106\n",
            "        ... \n",
            "10-16      1\n",
            "48-55      1\n",
            "7-8        1\n",
            "15-22      1\n",
            "8-11       1\n",
            "Name: count, Length: 75, dtype: int64\n"
          ]
        }
      ],
      "source": [
        "WBCinfo = dataset['WBC'].value_counts()\n",
        "print(WBCinfo)"
      ]
    },
    {
      "cell_type": "code",
      "execution_count": 14,
      "metadata": {
        "colab": {
          "base_uri": "https://localhost:8080/"
        },
        "id": "Q3eYcCzJCcFv",
        "outputId": "1df7817c-f74e-4bdf-a8fe-eaa11d3163a8"
      },
      "outputs": [
        {
          "name": "stdout",
          "output_type": "stream",
          "text": [
            "RBC\n",
            "0-2       618\n",
            "0-1       312\n",
            "1-2       123\n",
            "1-3        87\n",
            "2-4        72\n",
            "0-3        49\n",
            "3-5        27\n",
            "4-6        24\n",
            ">50        13\n",
            "5-7        10\n",
            ">100       10\n",
            "8-10       10\n",
            "18-20       6\n",
            "13-15       5\n",
            "2-3         5\n",
            "10-12       5\n",
            "1-5         4\n",
            "6-8         4\n",
            "LOADED      4\n",
            "1-4         3\n",
            "0-4         3\n",
            "9-11        3\n",
            "5-10        2\n",
            "5-8         2\n",
            "23-25       2\n",
            "30-35       2\n",
            "1-6         2\n",
            "16-18       2\n",
            "2-5         2\n",
            "3-6         2\n",
            "28-30       1\n",
            "12-15       1\n",
            "4-10        1\n",
            "48-62       1\n",
            "25-32       1\n",
            "25-30       1\n",
            "20-25       1\n",
            "2-6         1\n",
            "8-12        1\n",
            "12-17       1\n",
            "11-13       1\n",
            "TNTC        1\n",
            "22-24       1\n",
            "0-0         1\n",
            "85-87       1\n",
            "36-38       1\n",
            "20-22       1\n",
            "18-21       1\n",
            "18-25       1\n",
            "18-22       1\n",
            "9-12        1\n",
            "6-14        1\n",
            "38-40       1\n",
            "Name: count, dtype: int64\n"
          ]
        }
      ],
      "source": [
        "RBCinfo = dataset['RBC'].value_counts()\n",
        "print(RBCinfo)"
      ]
    },
    {
      "cell_type": "code",
      "execution_count": 15,
      "metadata": {
        "colab": {
          "base_uri": "https://localhost:8080/"
        },
        "id": "VsKwpzlLCiGc",
        "outputId": "e567dd49-3ae6-4177-f85c-8ff60b350d5c"
      },
      "outputs": [
        {
          "name": "stdout",
          "output_type": "stream",
          "text": [
            "Epithelial Cells\n",
            "RARE          742\n",
            "FEW           347\n",
            "MODERATE      188\n",
            "PLENTY        121\n",
            "OCCASIONAL     19\n",
            "NONE SEEN      16\n",
            "LOADED          3\n",
            "Name: count, dtype: int64\n"
          ]
        }
      ],
      "source": [
        "ECinfo = dataset['Epithelial Cells'].value_counts()\n",
        "print(ECinfo)"
      ]
    },
    {
      "cell_type": "code",
      "execution_count": 16,
      "metadata": {
        "colab": {
          "base_uri": "https://localhost:8080/"
        },
        "id": "kdqfdh7_Coeq",
        "outputId": "9191507f-f4ac-447f-8baa-2520ae075983"
      },
      "outputs": [
        {
          "name": "stdout",
          "output_type": "stream",
          "text": [
            "Mucous Threads\n",
            "NONE SEEN     500\n",
            "FEW           381\n",
            "RARE          276\n",
            "MODERATE      222\n",
            "PLENTY         36\n",
            "OCCASIONAL     21\n",
            "Name: count, dtype: int64\n"
          ]
        }
      ],
      "source": [
        "MTinfo = dataset['Mucous Threads'].value_counts()\n",
        "print(MTinfo)"
      ]
    },
    {
      "cell_type": "code",
      "execution_count": 17,
      "metadata": {
        "colab": {
          "base_uri": "https://localhost:8080/"
        },
        "id": "XLjDjDm5CwRQ",
        "outputId": "625fbc6c-0752-430f-c7ca-1fc55d0b8b29"
      },
      "outputs": [
        {
          "name": "stdout",
          "output_type": "stream",
          "text": [
            "Amorphous Urates\n",
            "NONE SEEN     1284\n",
            "FEW             72\n",
            "RARE            42\n",
            "MODERATE        19\n",
            "PLENTY          11\n",
            "OCCASIONAL       8\n",
            "Name: count, dtype: int64\n"
          ]
        }
      ],
      "source": [
        "AUinfo = dataset['Amorphous Urates'].value_counts()\n",
        "print(AUinfo)"
      ]
    },
    {
      "cell_type": "code",
      "execution_count": 18,
      "metadata": {
        "colab": {
          "base_uri": "https://localhost:8080/"
        },
        "id": "KwcFpnHmC3kC",
        "outputId": "82ca1f64-e674-46e8-c61e-06f35dc9d174"
      },
      "outputs": [
        {
          "name": "stdout",
          "output_type": "stream",
          "text": [
            "Bacteria\n",
            "RARE          755\n",
            "FEW           434\n",
            "MODERATE      158\n",
            "PLENTY         77\n",
            "OCCASIONAL      8\n",
            "LOADED          4\n",
            "Name: count, dtype: int64\n"
          ]
        }
      ],
      "source": [
        "Bacinfo = dataset['Bacteria'].value_counts()\n",
        "print(Bacinfo)"
      ]
    },
    {
      "cell_type": "code",
      "execution_count": 19,
      "metadata": {
        "id": "grxIkT3JhP1C"
      },
      "outputs": [],
      "source": [
        "# dataset = dataset.sample(frac=1).reset_index(drop=True)"
      ]
    },
    {
      "cell_type": "code",
      "execution_count": 20,
      "metadata": {
        "colab": {
          "base_uri": "https://localhost:8080/"
        },
        "id": "hhzU2iXVqRoO",
        "outputId": "131dc0d6-c781-4150-abcd-4119bb69a972"
      },
      "outputs": [
        {
          "name": "stdout",
          "output_type": "stream",
          "text": [
            "<class 'pandas.core.frame.DataFrame'>\n",
            "RangeIndex: 1436 entries, 0 to 1435\n",
            "Data columns (total 16 columns):\n",
            " #   Column            Non-Null Count  Dtype  \n",
            "---  ------            --------------  -----  \n",
            " 0   Unnamed: 0        1436 non-null   int64  \n",
            " 1   Age               1436 non-null   float64\n",
            " 2   Gender            1436 non-null   object \n",
            " 3   Color             1435 non-null   object \n",
            " 4   Transparency      1436 non-null   object \n",
            " 5   Glucose           1436 non-null   object \n",
            " 6   Protein           1436 non-null   object \n",
            " 7   pH                1436 non-null   float64\n",
            " 8   Specific Gravity  1436 non-null   float64\n",
            " 9   WBC               1436 non-null   object \n",
            " 10  RBC               1436 non-null   object \n",
            " 11  Epithelial Cells  1436 non-null   object \n",
            " 12  Mucous Threads    1436 non-null   object \n",
            " 13  Amorphous Urates  1436 non-null   object \n",
            " 14  Bacteria          1436 non-null   object \n",
            " 15  Diagnosis         1436 non-null   object \n",
            "dtypes: float64(3), int64(1), object(12)\n",
            "memory usage: 179.6+ KB\n"
          ]
        }
      ],
      "source": [
        "dataset.info()"
      ]
    },
    {
      "cell_type": "code",
      "execution_count": 21,
      "metadata": {
        "colab": {
          "base_uri": "https://localhost:8080/"
        },
        "id": "rb3TJthkqz7Q",
        "outputId": "43e0c37f-50ad-4d82-cb51-8a3c346f172e"
      },
      "outputs": [
        {
          "data": {
            "text/plain": [
              "Unnamed: 0          0\n",
              "Age                 0\n",
              "Gender              0\n",
              "Color               1\n",
              "Transparency        0\n",
              "Glucose             0\n",
              "Protein             0\n",
              "pH                  0\n",
              "Specific Gravity    0\n",
              "WBC                 0\n",
              "RBC                 0\n",
              "Epithelial Cells    0\n",
              "Mucous Threads      0\n",
              "Amorphous Urates    0\n",
              "Bacteria            0\n",
              "Diagnosis           0\n",
              "dtype: int64"
            ]
          },
          "execution_count": 21,
          "metadata": {},
          "output_type": "execute_result"
        }
      ],
      "source": [
        "dataset.isna().sum()"
      ]
    },
    {
      "cell_type": "code",
      "execution_count": 22,
      "metadata": {
        "id": "pqfe4o4Mq7r7"
      },
      "outputs": [],
      "source": [
        "# dikarenakan adanya 1 missing value pada features color, maka kami putuskan untuk menambahkan dengan modus dari feature color tersebut\n",
        "mode = dataset['Color'].dropna().mode()[0]"
      ]
    },
    {
      "cell_type": "code",
      "execution_count": 23,
      "metadata": {
        "id": "lO-RjDFAsaiC"
      },
      "outputs": [],
      "source": [
        "dataset['Color'].fillna(mode, inplace = True)"
      ]
    },
    {
      "cell_type": "code",
      "execution_count": 24,
      "metadata": {
        "colab": {
          "base_uri": "https://localhost:8080/"
        },
        "id": "tTQWZmSdslqg",
        "outputId": "0222387a-2a4b-4161-c622-0ea68f655ec6"
      },
      "outputs": [
        {
          "data": {
            "text/plain": [
              "Unnamed: 0          0\n",
              "Age                 0\n",
              "Gender              0\n",
              "Color               0\n",
              "Transparency        0\n",
              "Glucose             0\n",
              "Protein             0\n",
              "pH                  0\n",
              "Specific Gravity    0\n",
              "WBC                 0\n",
              "RBC                 0\n",
              "Epithelial Cells    0\n",
              "Mucous Threads      0\n",
              "Amorphous Urates    0\n",
              "Bacteria            0\n",
              "Diagnosis           0\n",
              "dtype: int64"
            ]
          },
          "execution_count": 24,
          "metadata": {},
          "output_type": "execute_result"
        }
      ],
      "source": [
        "dataset.isna().sum()"
      ]
    },
    {
      "cell_type": "code",
      "execution_count": 25,
      "metadata": {
        "colab": {
          "base_uri": "https://localhost:8080/",
          "height": 300
        },
        "id": "8KRfZaXVsqFo",
        "outputId": "be83db0e-6332-40e4-f2f6-2906abc2294f"
      },
      "outputs": [
        {
          "data": {
            "text/html": [
              "<div>\n",
              "<style scoped>\n",
              "    .dataframe tbody tr th:only-of-type {\n",
              "        vertical-align: middle;\n",
              "    }\n",
              "\n",
              "    .dataframe tbody tr th {\n",
              "        vertical-align: top;\n",
              "    }\n",
              "\n",
              "    .dataframe thead th {\n",
              "        text-align: right;\n",
              "    }\n",
              "</style>\n",
              "<table border=\"1\" class=\"dataframe\">\n",
              "  <thead>\n",
              "    <tr style=\"text-align: right;\">\n",
              "      <th></th>\n",
              "      <th>Unnamed: 0</th>\n",
              "      <th>Age</th>\n",
              "      <th>pH</th>\n",
              "      <th>Specific Gravity</th>\n",
              "    </tr>\n",
              "  </thead>\n",
              "  <tbody>\n",
              "    <tr>\n",
              "      <th>count</th>\n",
              "      <td>1436.000000</td>\n",
              "      <td>1436.000000</td>\n",
              "      <td>1436.000000</td>\n",
              "      <td>1436.000000</td>\n",
              "    </tr>\n",
              "    <tr>\n",
              "      <th>mean</th>\n",
              "      <td>717.500000</td>\n",
              "      <td>27.207521</td>\n",
              "      <td>6.052925</td>\n",
              "      <td>1.015850</td>\n",
              "    </tr>\n",
              "    <tr>\n",
              "      <th>std</th>\n",
              "      <td>414.681806</td>\n",
              "      <td>23.460032</td>\n",
              "      <td>0.598475</td>\n",
              "      <td>0.007285</td>\n",
              "    </tr>\n",
              "    <tr>\n",
              "      <th>min</th>\n",
              "      <td>0.000000</td>\n",
              "      <td>0.010000</td>\n",
              "      <td>5.000000</td>\n",
              "      <td>1.005000</td>\n",
              "    </tr>\n",
              "    <tr>\n",
              "      <th>25%</th>\n",
              "      <td>358.750000</td>\n",
              "      <td>6.000000</td>\n",
              "      <td>6.000000</td>\n",
              "      <td>1.010000</td>\n",
              "    </tr>\n",
              "    <tr>\n",
              "      <th>50%</th>\n",
              "      <td>717.500000</td>\n",
              "      <td>23.000000</td>\n",
              "      <td>6.000000</td>\n",
              "      <td>1.015000</td>\n",
              "    </tr>\n",
              "    <tr>\n",
              "      <th>75%</th>\n",
              "      <td>1076.250000</td>\n",
              "      <td>45.000000</td>\n",
              "      <td>6.500000</td>\n",
              "      <td>1.020000</td>\n",
              "    </tr>\n",
              "    <tr>\n",
              "      <th>max</th>\n",
              "      <td>1435.000000</td>\n",
              "      <td>92.000000</td>\n",
              "      <td>8.000000</td>\n",
              "      <td>1.030000</td>\n",
              "    </tr>\n",
              "  </tbody>\n",
              "</table>\n",
              "</div>"
            ],
            "text/plain": [
              "        Unnamed: 0          Age           pH  Specific Gravity\n",
              "count  1436.000000  1436.000000  1436.000000       1436.000000\n",
              "mean    717.500000    27.207521     6.052925          1.015850\n",
              "std     414.681806    23.460032     0.598475          0.007285\n",
              "min       0.000000     0.010000     5.000000          1.005000\n",
              "25%     358.750000     6.000000     6.000000          1.010000\n",
              "50%     717.500000    23.000000     6.000000          1.015000\n",
              "75%    1076.250000    45.000000     6.500000          1.020000\n",
              "max    1435.000000    92.000000     8.000000          1.030000"
            ]
          },
          "execution_count": 25,
          "metadata": {},
          "output_type": "execute_result"
        }
      ],
      "source": [
        "dataset.describe()"
      ]
    },
    {
      "cell_type": "code",
      "execution_count": 26,
      "metadata": {
        "colab": {
          "base_uri": "https://localhost:8080/"
        },
        "id": "Sl1yCEHZsx10",
        "outputId": "1faa3365-0838-47f7-85db-622ff1d3561c"
      },
      "outputs": [
        {
          "data": {
            "text/plain": [
              "Index(['Unnamed: 0', 'Age', 'Gender', 'Color', 'Transparency', 'Glucose',\n",
              "       'Protein', 'pH', 'Specific Gravity', 'WBC', 'RBC', 'Epithelial Cells',\n",
              "       'Mucous Threads', 'Amorphous Urates', 'Bacteria', 'Diagnosis'],\n",
              "      dtype='object')"
            ]
          },
          "execution_count": 26,
          "metadata": {},
          "output_type": "execute_result"
        }
      ],
      "source": [
        "dataset.columns"
      ]
    },
    {
      "cell_type": "code",
      "execution_count": 27,
      "metadata": {
        "id": "BCeCW9jauzfO"
      },
      "outputs": [],
      "source": [
        "# dikarenakan kami merasa feature Unnamed : 0 tidak berguna, maka kami putuskan untuk menghapus feature tersebut\n",
        "dataset = dataset.drop(['Unnamed: 0'], axis = 1)"
      ]
    },
    {
      "cell_type": "code",
      "execution_count": 28,
      "metadata": {
        "colab": {
          "base_uri": "https://localhost:8080/"
        },
        "id": "lSrjKL8tvCvw",
        "outputId": "4b534e11-3bc8-4956-b621-44989b571fe2"
      },
      "outputs": [
        {
          "data": {
            "text/plain": [
              "Age                 0\n",
              "Gender              0\n",
              "Color               0\n",
              "Transparency        0\n",
              "Glucose             0\n",
              "Protein             0\n",
              "pH                  0\n",
              "Specific Gravity    0\n",
              "WBC                 0\n",
              "RBC                 0\n",
              "Epithelial Cells    0\n",
              "Mucous Threads      0\n",
              "Amorphous Urates    0\n",
              "Bacteria            0\n",
              "Diagnosis           0\n",
              "dtype: int64"
            ]
          },
          "execution_count": 28,
          "metadata": {},
          "output_type": "execute_result"
        }
      ],
      "source": [
        "dataset.isna().sum()"
      ]
    },
    {
      "cell_type": "code",
      "execution_count": 29,
      "metadata": {
        "colab": {
          "base_uri": "https://localhost:8080/"
        },
        "id": "0axA9rukvXkx",
        "outputId": "f5422049-2ea9-4187-c6ca-96f40086a36d"
      },
      "outputs": [
        {
          "data": {
            "text/plain": [
              "Gender\n",
              "FEMALE    816\n",
              "MALE      620\n",
              "Name: count, dtype: int64"
            ]
          },
          "execution_count": 29,
          "metadata": {},
          "output_type": "execute_result"
        }
      ],
      "source": [
        "# Melakukan pengecekan terhadap persebaran data gender pada dataset ini\n",
        "dataset['Gender'].value_counts(dropna = False)"
      ]
    },
    {
      "cell_type": "code",
      "execution_count": 30,
      "metadata": {
        "id": "2yuHfqeEwUUS"
      },
      "outputs": [],
      "source": [
        "posM = 0\n",
        "negM = 0\n",
        "posF = 0\n",
        "negF = 0\n",
        "\n",
        "for index, data in dataset.iterrows():\n",
        "    if data['Gender'] == 'MALE' and data['Diagnosis'] == 'POSITIVE':\n",
        "        posM += 1\n",
        "    elif data['Gender'] == 'MALE' and data['Diagnosis'] == 'NEGATIVE':\n",
        "        negM += 1\n",
        "    elif data['Gender'] == 'FEMALE' and data['Diagnosis'] == 'POSITIVE':\n",
        "        posF += 1\n",
        "    elif data['Gender'] == 'FEMALE' and data['Diagnosis'] == 'NEGATIVE':\n",
        "        negF += 1"
      ]
    },
    {
      "cell_type": "code",
      "execution_count": 31,
      "metadata": {
        "colab": {
          "base_uri": "https://localhost:8080/",
          "height": 469
        },
        "id": "OMu9JpoAvkut",
        "outputId": "26d43783-9ce6-43a3-b0fe-253b06ec3f9d"
      },
      "outputs": [
        {
          "data": {
            "text/plain": [
              "Text(0.5, 1.0, 'Positive & Negative Distribution by Gender')"
            ]
          },
          "execution_count": 31,
          "metadata": {},
          "output_type": "execute_result"
        },
        {
          "data": {
            "image/png": "[encoded data removed]",
            "text/plain": [
              "<Figure size 640x480 with 1 Axes>"
            ]
          },
          "metadata": {},
          "output_type": "display_data"
        }
      ],
      "source": [
        "# Melakukan plottingan terhadap distribusi positive dan negative yang terbagi atas gender untuk lebih mengenal dataset kami\n",
        "plt.bar(['Positive Male', 'Negative Male', 'Positive Female', 'Negative Female'], [posM, negM, posF, negF])\n",
        "plt.title('Positive & Negative Distribution by Gender')"
      ]
    },
    {
      "cell_type": "code",
      "execution_count": 32,
      "metadata": {
        "id": "svGX6MIaovZp"
      },
      "outputs": [],
      "source": [
        "posMF = posM + posF\n",
        "negMF = negM + negF"
      ]
    },
    {
      "cell_type": "code",
      "execution_count": 33,
      "metadata": {
        "colab": {
          "base_uri": "https://localhost:8080/",
          "height": 469
        },
        "id": "8EVfl-1DpF4m",
        "outputId": "1c6bce10-2613-472f-eac9-ce59c1a33670"
      },
      "outputs": [
        {
          "data": {
            "text/plain": [
              "Text(0.5, 1.0, 'The Positive & Negative Data Distribution')"
            ]
          },
          "execution_count": 33,
          "metadata": {},
          "output_type": "execute_result"
        },
        {
          "data": {
            "image/png": "[encoded data removed]",
            "text/plain": [
              "<Figure size 640x480 with 1 Axes>"
            ]
          },
          "metadata": {},
          "output_type": "display_data"
        }
      ],
      "source": [
        "# disini kami menyadari bahwa dataset kami bersifat imbalance terhadap data diagnosis positive dan negativenya\n",
        "plt.bar(['Positive', 'Negative'], [posMF, negMF])\n",
        "plt.title('The Positive & Negative Data Distribution')"
      ]
    },
    {
      "cell_type": "code",
      "execution_count": 34,
      "metadata": {
        "id": "5MPxDegPv68p"
      },
      "outputs": [],
      "source": [
        "from sklearn import preprocessing\n",
        "\n",
        "encoder = preprocessing.LabelEncoder()\n",
        "coding_colums = [\"Color\", \"Transparency\", \"Glucose\", \"Protein\", \"WBC\", \"RBC\", \"Epithelial Cells\", \"Mucous Threads\", \"Amorphous Urates\", \"Bacteria\", \"Diagnosis\"]\n",
        "for code in coding_colums:\n",
        "  dataset[code] = encoder.fit_transform(dataset[code])"
      ]
    },
    {
      "cell_type": "code",
      "execution_count": 35,
      "metadata": {
        "colab": {
          "base_uri": "https://localhost:8080/",
          "height": 489
        },
        "id": "DvuOfZFv20pE",
        "outputId": "0fd6419e-293e-4aa0-cf9b-7be09de2b966"
      },
      "outputs": [
        {
          "data": {
            "text/plain": [
              "Text(0.5, 1.0, 'Positive Probability by Gender')"
            ]
          },
          "execution_count": 35,
          "metadata": {},
          "output_type": "execute_result"
        },
        {
          "data": {
            "image/png": "[encoded data removed]",
            "text/plain": [
              "<Figure size 640x480 with 1 Axes>"
            ]
          },
          "metadata": {},
          "output_type": "display_data"
        }
      ],
      "source": [
        "sns.barplot(x = 'Gender', y = 'Diagnosis', data = dataset)\n",
        "plt.ylabel('Positive Probability')\n",
        "plt.title('Positive Probability by Gender')"
      ]
    },
    {
      "cell_type": "code",
      "execution_count": 36,
      "metadata": {
        "id": "9o8EBBwb2dqq"
      },
      "outputs": [],
      "source": [
        "dataset[['Gender', 'Diagnosis']].groupby('Gender', as_index= False).mean().sort_values(by = 'Diagnosis' , ascending = False)\n",
        "dataset['Gender'] = encoder.fit_transform(dataset['Gender'])"
      ]
    },
    {
      "cell_type": "code",
      "execution_count": 37,
      "metadata": {
        "colab": {
          "base_uri": "https://localhost:8080/",
          "height": 568
        },
        "id": "fRTRT6q1cnHd",
        "outputId": "d337927c-a3c9-435c-c8ef-310e75dbb44f"
      },
      "outputs": [
        {
          "data": {
            "text/plain": [
              "<AxesSubplot:>"
            ]
          },
          "execution_count": 37,
          "metadata": {},
          "output_type": "execute_result"
        },
        {
          "data": {
            "image/png": "[encoded data removed]",
            "text/plain": [
              "<Figure size 640x480 with 2 Axes>"
            ]
          },
          "metadata": {},
          "output_type": "display_data"
        }
      ],
      "source": [
        "sns.heatmap(dataset[[\"Age\", \"Gender\", \"Color\", \"Transparency\", \"Glucose\", \"Protein\", \"pH\", \"WBC\", \"RBC\", \"Epithelial Cells\", \"Mucous Threads\", \"Amorphous Urates\", \"Bacteria\", \"Diagnosis\"]].corr(), annot = True, fmt = '.2f', cmap = 'coolwarm')"
      ]
    },
    {
      "cell_type": "markdown",
      "metadata": {
        "id": "1rW7fxEckLNG"
      },
      "source": []
    },
    {
      "cell_type": "code",
      "execution_count": 38,
      "metadata": {
        "id": "BV317qDix99K"
      },
      "outputs": [],
      "source": [
        "#OverSampling\n",
        "from imblearn.over_sampling import SMOTE\n",
        "from imblearn.under_sampling import RandomUnderSampler\n",
        "from imblearn.pipeline import Pipeline\n",
        "\n",
        "x = dataset.drop(columns=['Diagnosis'])\n",
        "y = dataset['Diagnosis']\n",
        "\n",
        "smote = SMOTE(random_state=42)\n",
        "x, y = smote.fit_resample(x, y)\n",
        "\n",
        "dataset = pd.concat([pd.DataFrame(x), pd.DataFrame(y, columns=['Diagnosis'])], axis=1)"
      ]
    },
    {
      "cell_type": "code",
      "execution_count": 39,
      "metadata": {
        "colab": {
          "base_uri": "https://localhost:8080/"
        },
        "id": "G1oOPVN82Hj2",
        "outputId": "1293bf68-da73-461c-eb62-1f6d5baa45ca"
      },
      "outputs": [
        {
          "name": "stdout",
          "output_type": "stream",
          "text": [
            "<class 'pandas.core.frame.DataFrame'>\n",
            "RangeIndex: 2710 entries, 0 to 2709\n",
            "Data columns (total 15 columns):\n",
            " #   Column            Non-Null Count  Dtype  \n",
            "---  ------            --------------  -----  \n",
            " 0   Age               2710 non-null   float64\n",
            " 1   Gender            2710 non-null   int32  \n",
            " 2   Color             2710 non-null   int32  \n",
            " 3   Transparency      2710 non-null   int32  \n",
            " 4   Glucose           2710 non-null   int32  \n",
            " 5   Protein           2710 non-null   int32  \n",
            " 6   pH                2710 non-null   float64\n",
            " 7   Specific Gravity  2710 non-null   float64\n",
            " 8   WBC               2710 non-null   int32  \n",
            " 9   RBC               2710 non-null   int32  \n",
            " 10  Epithelial Cells  2710 non-null   int32  \n",
            " 11  Mucous Threads    2710 non-null   int32  \n",
            " 12  Amorphous Urates  2710 non-null   int32  \n",
            " 13  Bacteria          2710 non-null   int32  \n",
            " 14  Diagnosis         2710 non-null   int32  \n",
            "dtypes: float64(3), int32(12)\n",
            "memory usage: 190.7 KB\n"
          ]
        }
      ],
      "source": [
        "dataset.info()"
      ]
    },
    {
      "cell_type": "code",
      "execution_count": 40,
      "metadata": {
        "colab": {
          "base_uri": "https://localhost:8080/",
          "height": 694
        },
        "id": "w-I_Q1xP2b1g",
        "outputId": "2ee8cfd5-c6c0-40ac-9cf6-471f60df491a"
      },
      "outputs": [
        {
          "data": {
            "text/html": [
              "<div>\n",
              "<style scoped>\n",
              "    .dataframe tbody tr th:only-of-type {\n",
              "        vertical-align: middle;\n",
              "    }\n",
              "\n",
              "    .dataframe tbody tr th {\n",
              "        vertical-align: top;\n",
              "    }\n",
              "\n",
              "    .dataframe thead th {\n",
              "        text-align: right;\n",
              "    }\n",
              "</style>\n",
              "<table border=\"1\" class=\"dataframe\">\n",
              "  <thead>\n",
              "    <tr style=\"text-align: right;\">\n",
              "      <th></th>\n",
              "      <th>Age</th>\n",
              "      <th>Gender</th>\n",
              "      <th>Color</th>\n",
              "      <th>Transparency</th>\n",
              "      <th>Glucose</th>\n",
              "      <th>Protein</th>\n",
              "      <th>pH</th>\n",
              "      <th>Specific Gravity</th>\n",
              "      <th>WBC</th>\n",
              "      <th>RBC</th>\n",
              "      <th>Epithelial Cells</th>\n",
              "      <th>Mucous Threads</th>\n",
              "      <th>Amorphous Urates</th>\n",
              "      <th>Bacteria</th>\n",
              "      <th>Diagnosis</th>\n",
              "    </tr>\n",
              "  </thead>\n",
              "  <tbody>\n",
              "    <tr>\n",
              "      <th>0</th>\n",
              "      <td>76.0</td>\n",
              "      <td>0</td>\n",
              "      <td>4</td>\n",
              "      <td>0</td>\n",
              "      <td>4</td>\n",
              "      <td>3</td>\n",
              "      <td>5.0</td>\n",
              "      <td>1.010</td>\n",
              "      <td>5</td>\n",
              "      <td>2</td>\n",
              "      <td>4</td>\n",
              "      <td>5</td>\n",
              "      <td>2</td>\n",
              "      <td>3</td>\n",
              "      <td>0</td>\n",
              "    </tr>\n",
              "    <tr>\n",
              "      <th>1</th>\n",
              "      <td>9.0</td>\n",
              "      <td>1</td>\n",
              "      <td>2</td>\n",
              "      <td>3</td>\n",
              "      <td>4</td>\n",
              "      <td>0</td>\n",
              "      <td>5.0</td>\n",
              "      <td>1.030</td>\n",
              "      <td>5</td>\n",
              "      <td>2</td>\n",
              "      <td>6</td>\n",
              "      <td>0</td>\n",
              "      <td>0</td>\n",
              "      <td>2</td>\n",
              "      <td>0</td>\n",
              "    </tr>\n",
              "    <tr>\n",
              "      <th>2</th>\n",
              "      <td>12.0</td>\n",
              "      <td>1</td>\n",
              "      <td>4</td>\n",
              "      <td>3</td>\n",
              "      <td>4</td>\n",
              "      <td>4</td>\n",
              "      <td>5.0</td>\n",
              "      <td>1.030</td>\n",
              "      <td>2</td>\n",
              "      <td>2</td>\n",
              "      <td>6</td>\n",
              "      <td>0</td>\n",
              "      <td>1</td>\n",
              "      <td>5</td>\n",
              "      <td>0</td>\n",
              "    </tr>\n",
              "    <tr>\n",
              "      <th>3</th>\n",
              "      <td>77.0</td>\n",
              "      <td>1</td>\n",
              "      <td>1</td>\n",
              "      <td>1</td>\n",
              "      <td>4</td>\n",
              "      <td>0</td>\n",
              "      <td>6.0</td>\n",
              "      <td>1.020</td>\n",
              "      <td>56</td>\n",
              "      <td>51</td>\n",
              "      <td>6</td>\n",
              "      <td>5</td>\n",
              "      <td>2</td>\n",
              "      <td>0</td>\n",
              "      <td>0</td>\n",
              "    </tr>\n",
              "    <tr>\n",
              "      <th>4</th>\n",
              "      <td>29.0</td>\n",
              "      <td>0</td>\n",
              "      <td>9</td>\n",
              "      <td>2</td>\n",
              "      <td>4</td>\n",
              "      <td>4</td>\n",
              "      <td>6.0</td>\n",
              "      <td>1.025</td>\n",
              "      <td>6</td>\n",
              "      <td>2</td>\n",
              "      <td>6</td>\n",
              "      <td>5</td>\n",
              "      <td>2</td>\n",
              "      <td>0</td>\n",
              "      <td>0</td>\n",
              "    </tr>\n",
              "    <tr>\n",
              "      <th>5</th>\n",
              "      <td>50.0</td>\n",
              "      <td>0</td>\n",
              "      <td>2</td>\n",
              "      <td>2</td>\n",
              "      <td>4</td>\n",
              "      <td>1</td>\n",
              "      <td>6.0</td>\n",
              "      <td>1.020</td>\n",
              "      <td>2</td>\n",
              "      <td>2</td>\n",
              "      <td>5</td>\n",
              "      <td>0</td>\n",
              "      <td>2</td>\n",
              "      <td>0</td>\n",
              "      <td>0</td>\n",
              "    </tr>\n",
              "    <tr>\n",
              "      <th>6</th>\n",
              "      <td>3.0</td>\n",
              "      <td>1</td>\n",
              "      <td>4</td>\n",
              "      <td>0</td>\n",
              "      <td>4</td>\n",
              "      <td>3</td>\n",
              "      <td>7.0</td>\n",
              "      <td>1.005</td>\n",
              "      <td>2</td>\n",
              "      <td>2</td>\n",
              "      <td>6</td>\n",
              "      <td>5</td>\n",
              "      <td>2</td>\n",
              "      <td>5</td>\n",
              "      <td>0</td>\n",
              "    </tr>\n",
              "    <tr>\n",
              "      <th>7</th>\n",
              "      <td>23.0</td>\n",
              "      <td>0</td>\n",
              "      <td>4</td>\n",
              "      <td>3</td>\n",
              "      <td>4</td>\n",
              "      <td>3</td>\n",
              "      <td>7.0</td>\n",
              "      <td>1.005</td>\n",
              "      <td>39</td>\n",
              "      <td>5</td>\n",
              "      <td>2</td>\n",
              "      <td>0</td>\n",
              "      <td>2</td>\n",
              "      <td>0</td>\n",
              "      <td>0</td>\n",
              "    </tr>\n",
              "    <tr>\n",
              "      <th>8</th>\n",
              "      <td>8.0</td>\n",
              "      <td>1</td>\n",
              "      <td>9</td>\n",
              "      <td>3</td>\n",
              "      <td>4</td>\n",
              "      <td>4</td>\n",
              "      <td>6.0</td>\n",
              "      <td>1.030</td>\n",
              "      <td>5</td>\n",
              "      <td>2</td>\n",
              "      <td>6</td>\n",
              "      <td>0</td>\n",
              "      <td>2</td>\n",
              "      <td>0</td>\n",
              "      <td>0</td>\n",
              "    </tr>\n",
              "    <tr>\n",
              "      <th>9</th>\n",
              "      <td>2.0</td>\n",
              "      <td>0</td>\n",
              "      <td>9</td>\n",
              "      <td>2</td>\n",
              "      <td>4</td>\n",
              "      <td>4</td>\n",
              "      <td>7.5</td>\n",
              "      <td>1.010</td>\n",
              "      <td>64</td>\n",
              "      <td>21</td>\n",
              "      <td>6</td>\n",
              "      <td>0</td>\n",
              "      <td>2</td>\n",
              "      <td>4</td>\n",
              "      <td>1</td>\n",
              "    </tr>\n",
              "    <tr>\n",
              "      <th>10</th>\n",
              "      <td>65.0</td>\n",
              "      <td>1</td>\n",
              "      <td>4</td>\n",
              "      <td>0</td>\n",
              "      <td>4</td>\n",
              "      <td>3</td>\n",
              "      <td>6.0</td>\n",
              "      <td>1.010</td>\n",
              "      <td>1</td>\n",
              "      <td>1</td>\n",
              "      <td>6</td>\n",
              "      <td>5</td>\n",
              "      <td>2</td>\n",
              "      <td>5</td>\n",
              "      <td>0</td>\n",
              "    </tr>\n",
              "    <tr>\n",
              "      <th>11</th>\n",
              "      <td>62.0</td>\n",
              "      <td>0</td>\n",
              "      <td>4</td>\n",
              "      <td>0</td>\n",
              "      <td>4</td>\n",
              "      <td>4</td>\n",
              "      <td>6.0</td>\n",
              "      <td>1.020</td>\n",
              "      <td>5</td>\n",
              "      <td>42</td>\n",
              "      <td>0</td>\n",
              "      <td>5</td>\n",
              "      <td>2</td>\n",
              "      <td>0</td>\n",
              "      <td>0</td>\n",
              "    </tr>\n",
              "    <tr>\n",
              "      <th>12</th>\n",
              "      <td>18.0</td>\n",
              "      <td>0</td>\n",
              "      <td>4</td>\n",
              "      <td>0</td>\n",
              "      <td>4</td>\n",
              "      <td>3</td>\n",
              "      <td>6.5</td>\n",
              "      <td>1.005</td>\n",
              "      <td>1</td>\n",
              "      <td>21</td>\n",
              "      <td>6</td>\n",
              "      <td>2</td>\n",
              "      <td>2</td>\n",
              "      <td>5</td>\n",
              "      <td>0</td>\n",
              "    </tr>\n",
              "    <tr>\n",
              "      <th>13</th>\n",
              "      <td>3.0</td>\n",
              "      <td>0</td>\n",
              "      <td>2</td>\n",
              "      <td>0</td>\n",
              "      <td>4</td>\n",
              "      <td>4</td>\n",
              "      <td>6.0</td>\n",
              "      <td>1.025</td>\n",
              "      <td>1</td>\n",
              "      <td>5</td>\n",
              "      <td>6</td>\n",
              "      <td>1</td>\n",
              "      <td>2</td>\n",
              "      <td>5</td>\n",
              "      <td>0</td>\n",
              "    </tr>\n",
              "    <tr>\n",
              "      <th>14</th>\n",
              "      <td>31.0</td>\n",
              "      <td>0</td>\n",
              "      <td>9</td>\n",
              "      <td>0</td>\n",
              "      <td>4</td>\n",
              "      <td>3</td>\n",
              "      <td>6.0</td>\n",
              "      <td>1.015</td>\n",
              "      <td>4</td>\n",
              "      <td>2</td>\n",
              "      <td>5</td>\n",
              "      <td>0</td>\n",
              "      <td>2</td>\n",
              "      <td>0</td>\n",
              "      <td>0</td>\n",
              "    </tr>\n",
              "    <tr>\n",
              "      <th>15</th>\n",
              "      <td>44.0</td>\n",
              "      <td>1</td>\n",
              "      <td>0</td>\n",
              "      <td>0</td>\n",
              "      <td>4</td>\n",
              "      <td>0</td>\n",
              "      <td>6.0</td>\n",
              "      <td>1.020</td>\n",
              "      <td>28</td>\n",
              "      <td>48</td>\n",
              "      <td>6</td>\n",
              "      <td>5</td>\n",
              "      <td>2</td>\n",
              "      <td>2</td>\n",
              "      <td>0</td>\n",
              "    </tr>\n",
              "    <tr>\n",
              "      <th>16</th>\n",
              "      <td>32.0</td>\n",
              "      <td>0</td>\n",
              "      <td>4</td>\n",
              "      <td>1</td>\n",
              "      <td>4</td>\n",
              "      <td>4</td>\n",
              "      <td>6.5</td>\n",
              "      <td>1.015</td>\n",
              "      <td>59</td>\n",
              "      <td>2</td>\n",
              "      <td>0</td>\n",
              "      <td>2</td>\n",
              "      <td>4</td>\n",
              "      <td>5</td>\n",
              "      <td>0</td>\n",
              "    </tr>\n",
              "    <tr>\n",
              "      <th>17</th>\n",
              "      <td>26.0</td>\n",
              "      <td>1</td>\n",
              "      <td>9</td>\n",
              "      <td>0</td>\n",
              "      <td>4</td>\n",
              "      <td>3</td>\n",
              "      <td>6.0</td>\n",
              "      <td>1.015</td>\n",
              "      <td>5</td>\n",
              "      <td>2</td>\n",
              "      <td>6</td>\n",
              "      <td>0</td>\n",
              "      <td>2</td>\n",
              "      <td>5</td>\n",
              "      <td>0</td>\n",
              "    </tr>\n",
              "    <tr>\n",
              "      <th>18</th>\n",
              "      <td>1.0</td>\n",
              "      <td>1</td>\n",
              "      <td>9</td>\n",
              "      <td>0</td>\n",
              "      <td>4</td>\n",
              "      <td>3</td>\n",
              "      <td>6.0</td>\n",
              "      <td>1.030</td>\n",
              "      <td>4</td>\n",
              "      <td>2</td>\n",
              "      <td>6</td>\n",
              "      <td>1</td>\n",
              "      <td>2</td>\n",
              "      <td>2</td>\n",
              "      <td>0</td>\n",
              "    </tr>\n",
              "    <tr>\n",
              "      <th>19</th>\n",
              "      <td>30.0</td>\n",
              "      <td>0</td>\n",
              "      <td>8</td>\n",
              "      <td>0</td>\n",
              "      <td>4</td>\n",
              "      <td>3</td>\n",
              "      <td>6.5</td>\n",
              "      <td>1.005</td>\n",
              "      <td>1</td>\n",
              "      <td>6</td>\n",
              "      <td>6</td>\n",
              "      <td>2</td>\n",
              "      <td>2</td>\n",
              "      <td>5</td>\n",
              "      <td>0</td>\n",
              "    </tr>\n",
              "  </tbody>\n",
              "</table>\n",
              "</div>"
            ],
            "text/plain": [
              "     Age  Gender  Color  Transparency  Glucose  Protein   pH  \\\n",
              "0   76.0       0      4             0        4        3  5.0   \n",
              "1    9.0       1      2             3        4        0  5.0   \n",
              "2   12.0       1      4             3        4        4  5.0   \n",
              "3   77.0       1      1             1        4        0  6.0   \n",
              "4   29.0       0      9             2        4        4  6.0   \n",
              "5   50.0       0      2             2        4        1  6.0   \n",
              "6    3.0       1      4             0        4        3  7.0   \n",
              "7   23.0       0      4             3        4        3  7.0   \n",
              "8    8.0       1      9             3        4        4  6.0   \n",
              "9    2.0       0      9             2        4        4  7.5   \n",
              "10  65.0       1      4             0        4        3  6.0   \n",
              "11  62.0       0      4             0        4        4  6.0   \n",
              "12  18.0       0      4             0        4        3  6.5   \n",
              "13   3.0       0      2             0        4        4  6.0   \n",
              "14  31.0       0      9             0        4        3  6.0   \n",
              "15  44.0       1      0             0        4        0  6.0   \n",
              "16  32.0       0      4             1        4        4  6.5   \n",
              "17  26.0       1      9             0        4        3  6.0   \n",
              "18   1.0       1      9             0        4        3  6.0   \n",
              "19  30.0       0      8             0        4        3  6.5   \n",
              "\n",
              "    Specific Gravity  WBC  RBC  Epithelial Cells  Mucous Threads  \\\n",
              "0              1.010    5    2                 4               5   \n",
              "1              1.030    5    2                 6               0   \n",
              "2              1.030    2    2                 6               0   \n",
              "3              1.020   56   51                 6               5   \n",
              "4              1.025    6    2                 6               5   \n",
              "5              1.020    2    2                 5               0   \n",
              "6              1.005    2    2                 6               5   \n",
              "7              1.005   39    5                 2               0   \n",
              "8              1.030    5    2                 6               0   \n",
              "9              1.010   64   21                 6               0   \n",
              "10             1.010    1    1                 6               5   \n",
              "11             1.020    5   42                 0               5   \n",
              "12             1.005    1   21                 6               2   \n",
              "13             1.025    1    5                 6               1   \n",
              "14             1.015    4    2                 5               0   \n",
              "15             1.020   28   48                 6               5   \n",
              "16             1.015   59    2                 0               2   \n",
              "17             1.015    5    2                 6               0   \n",
              "18             1.030    4    2                 6               1   \n",
              "19             1.005    1    6                 6               2   \n",
              "\n",
              "    Amorphous Urates  Bacteria  Diagnosis  \n",
              "0                  2         3          0  \n",
              "1                  0         2          0  \n",
              "2                  1         5          0  \n",
              "3                  2         0          0  \n",
              "4                  2         0          0  \n",
              "5                  2         0          0  \n",
              "6                  2         5          0  \n",
              "7                  2         0          0  \n",
              "8                  2         0          0  \n",
              "9                  2         4          1  \n",
              "10                 2         5          0  \n",
              "11                 2         0          0  \n",
              "12                 2         5          0  \n",
              "13                 2         5          0  \n",
              "14                 2         0          0  \n",
              "15                 2         2          0  \n",
              "16                 4         5          0  \n",
              "17                 2         5          0  \n",
              "18                 2         2          0  \n",
              "19                 2         5          0  "
            ]
          },
          "execution_count": 40,
          "metadata": {},
          "output_type": "execute_result"
        }
      ],
      "source": [
        "# diagnosis 0 itu negative dan 1 positive\n",
        "dataset.head(20)"
      ]
    },
    {
      "cell_type": "code",
      "execution_count": 41,
      "metadata": {},
      "outputs": [],
      "source": [
        "dataset.to_csv(\"d.csv\")"
      ]
    },
    {
      "cell_type": "code",
      "execution_count": 42,
      "metadata": {
        "id": "D0lDzpF842Nq"
      },
      "outputs": [],
      "source": [
        "from sklearn.naive_bayes import GaussianNB\n",
        "from sklearn.ensemble import RandomForestClassifier\n",
        "from sklearn.model_selection import train_test_split, GridSearchCV\n",
        "from sklearn.metrics import accuracy_score, classification_report, ConfusionMatrixDisplay"
      ]
    },
    {
      "cell_type": "code",
      "execution_count": 43,
      "metadata": {
        "colab": {
          "base_uri": "https://localhost:8080/"
        },
        "id": "veeFROQo5RPf",
        "outputId": "c2ab32b9-b4e6-4451-ed75-32ef18cf4d1d"
      },
      "outputs": [
        {
          "name": "stdout",
          "output_type": "stream",
          "text": [
            "<class 'pandas.core.frame.DataFrame'>\n",
            "RangeIndex: 2710 entries, 0 to 2709\n",
            "Data columns (total 15 columns):\n",
            " #   Column            Non-Null Count  Dtype  \n",
            "---  ------            --------------  -----  \n",
            " 0   Age               2710 non-null   float64\n",
            " 1   Gender            2710 non-null   int32  \n",
            " 2   Color             2710 non-null   int32  \n",
            " 3   Transparency      2710 non-null   int32  \n",
            " 4   Glucose           2710 non-null   int32  \n",
            " 5   Protein           2710 non-null   int32  \n",
            " 6   pH                2710 non-null   float64\n",
            " 7   Specific Gravity  2710 non-null   float64\n",
            " 8   WBC               2710 non-null   int32  \n",
            " 9   RBC               2710 non-null   int32  \n",
            " 10  Epithelial Cells  2710 non-null   int32  \n",
            " 11  Mucous Threads    2710 non-null   int32  \n",
            " 12  Amorphous Urates  2710 non-null   int32  \n",
            " 13  Bacteria          2710 non-null   int32  \n",
            " 14  Diagnosis         2710 non-null   int32  \n",
            "dtypes: float64(3), int32(12)\n",
            "memory usage: 190.7 KB\n"
          ]
        }
      ],
      "source": [
        "dataset.info()"
      ]
    },
    {
      "cell_type": "code",
      "execution_count": 44,
      "metadata": {
        "colab": {
          "base_uri": "https://localhost:8080/"
        },
        "id": "RWTtRxLs3PzJ",
        "outputId": "a4c98f62-e801-4596-ce34-9c1253b46b54"
      },
      "outputs": [
        {
          "name": "stdout",
          "output_type": "stream",
          "text": [
            "accuracy 0.7804428044280443\n",
            "classification report               precision    recall  f1-score   support\n",
            "\n",
            "           0       0.77      0.83      0.80       281\n",
            "           1       0.80      0.73      0.76       261\n",
            "\n",
            "    accuracy                           0.78       542\n",
            "   macro avg       0.78      0.78      0.78       542\n",
            "weighted avg       0.78      0.78      0.78       542\n",
            "\n"
          ]
        }
      ],
      "source": [
        "x = dataset[['Age', 'Gender', 'Color', 'Transparency', 'Glucose', 'Protein', 'WBC', 'RBC', 'Epithelial Cells', 'Mucous Threads', 'Amorphous Urates', 'Bacteria']]\n",
        "y = dataset['Diagnosis']\n",
        "\n",
        "x_train, x_test, y_train, y_test = train_test_split(x, y, test_size=0.2, random_state = 42)\n",
        "\n",
        "gaussian_model =  GaussianNB()\n",
        "\n",
        "gaussian_model.fit(x_train, y_train)\n",
        "\n",
        "y_pred = gaussian_model.predict(x_test)\n",
        "\n",
        "print('accuracy', accuracy_score(y_test, y_pred))\n",
        "\n",
        "print('classification report', classification_report(y_test, y_pred))"
      ]
    },
    {
      "cell_type": "code",
      "execution_count": 45,
      "metadata": {
        "colab": {
          "base_uri": "https://localhost:8080/",
          "height": 466
        },
        "id": "vLKtt8mlgsiJ",
        "outputId": "7bf0f91b-b001-4cea-82a0-cfaaba9e3391"
      },
      "outputs": [
        {
          "data": {
            "text/plain": [
              "<sklearn.metrics._plot.confusion_matrix.ConfusionMatrixDisplay at 0x2401deb3940>"
            ]
          },
          "execution_count": 45,
          "metadata": {},
          "output_type": "execute_result"
        },
        {
          "data": {
            "image/png": "[encoded data removed]",
            "text/plain": [
              "<Figure size 640x480 with 2 Axes>"
            ]
          },
          "metadata": {},
          "output_type": "display_data"
        }
      ],
      "source": [
        "ConfusionMatrixDisplay.from_estimator(gaussian_model,x_test,y_test)"
      ]
    },
    {
      "cell_type": "code",
      "execution_count": 46,
      "metadata": {
        "colab": {
          "base_uri": "https://localhost:8080/"
        },
        "id": "oQraTA-d7LRT",
        "outputId": "af0031a7-1deb-4051-975e-a532a2b2ef1b"
      },
      "outputs": [
        {
          "name": "stdout",
          "output_type": "stream",
          "text": [
            "Accuracy: 0.7472324723247232\n",
            "Classification Report:\n",
            "               precision    recall  f1-score   support\n",
            "\n",
            "           0       0.76      0.74      0.75       277\n",
            "           1       0.74      0.75      0.74       265\n",
            "\n",
            "    accuracy                           0.75       542\n",
            "   macro avg       0.75      0.75      0.75       542\n",
            "weighted avg       0.75      0.75      0.75       542\n",
            "\n"
          ]
        }
      ],
      "source": [
        "from sklearn.svm import SVC\n",
        "\n",
        "x = dataset[['Age', 'Gender', 'Color', 'Transparency', 'Glucose', 'Protein', 'WBC', 'RBC', 'Epithelial Cells', 'Mucous Threads', 'Amorphous Urates', 'Bacteria']]\n",
        "y = dataset['Diagnosis']\n",
        "\n",
        "x_train, x_test, y_train, y_test = train_test_split(x, y, test_size=0.2, random_state=40)\n",
        "\n",
        "svc_model = SVC()\n",
        "\n",
        "svc_model.fit(x_train, y_train)\n",
        "\n",
        "y_pred_svm = svc_model.predict(x_test)\n",
        "\n",
        "print('Accuracy:', accuracy_score(y_test, y_pred_svm))\n",
        "print('Classification Report:\\n', classification_report(y_test, y_pred_svm))\n"
      ]
    },
    {
      "cell_type": "code",
      "execution_count": 47,
      "metadata": {
        "colab": {
          "base_uri": "https://localhost:8080/",
          "height": 466
        },
        "id": "u5lAVnWVg9SJ",
        "outputId": "c5b7186f-5d27-4df5-e3dd-5f53c33a6c0c"
      },
      "outputs": [
        {
          "data": {
            "text/plain": [
              "<sklearn.metrics._plot.confusion_matrix.ConfusionMatrixDisplay at 0x240248ab9a0>"
            ]
          },
          "execution_count": 47,
          "metadata": {},
          "output_type": "execute_result"
        },
        {
          "data": {
            "image/png": "[encoded data removed]",
            "text/plain": [
              "<Figure size 640x480 with 2 Axes>"
            ]
          },
          "metadata": {},
          "output_type": "display_data"
        }
      ],
      "source": [
        "ConfusionMatrixDisplay.from_estimator(svc_model,x_test,y_test)"
      ]
    },
    {
      "cell_type": "code",
      "execution_count": 48,
      "metadata": {
        "colab": {
          "base_uri": "https://localhost:8080/",
          "height": 640
        },
        "id": "vioHeDe6_dmO",
        "outputId": "10210810-c2a4-45f9-e664-0811c565bb27"
      },
      "outputs": [
        {
          "name": "stdout",
          "output_type": "stream",
          "text": [
            "accuracy 0.9059040590405905\n",
            "classification report               precision    recall  f1-score   support\n",
            "\n",
            "           0       0.92      0.89      0.91       277\n",
            "           1       0.89      0.92      0.91       265\n",
            "\n",
            "    accuracy                           0.91       542\n",
            "   macro avg       0.91      0.91      0.91       542\n",
            "weighted avg       0.91      0.91      0.91       542\n",
            "\n"
          ]
        },
        {
          "data": {
            "text/plain": [
              "<sklearn.metrics._plot.confusion_matrix.ConfusionMatrixDisplay at 0x24022486da0>"
            ]
          },
          "execution_count": 48,
          "metadata": {},
          "output_type": "execute_result"
        },
        {
          "data": {
            "image/png": "[encoded data removed]",
            "text/plain": [
              "<Figure size 640x480 with 2 Axes>"
            ]
          },
          "metadata": {},
          "output_type": "display_data"
        }
      ],
      "source": [
        "from xgboost import XGBClassifier\n",
        "\n",
        "xgb_model = XGBClassifier(learning_rate=0.01, max_depth=10, n_estimators=100)\n",
        "\n",
        "xgb_model.fit(x_train, y_train)\n",
        "\n",
        "y_pred_xgb = xgb_model.predict(x_test)\n",
        "\n",
        "print('accuracy', accuracy_score(y_test, y_pred_xgb))\n",
        "\n",
        "print('classification report', classification_report(y_test, y_pred_xgb))\n",
        "ConfusionMatrixDisplay.from_estimator(xgb_model,x_test,y_test)"
      ]
    },
    {
      "cell_type": "code",
      "execution_count": 49,
      "metadata": {
        "colab": {
          "base_uri": "https://localhost:8080/"
        },
        "id": "wDLpYPZC6knx",
        "outputId": "f06caebe-68b3-4368-a47a-8fce73fcdd2f"
      },
      "outputs": [
        {
          "name": "stdout",
          "output_type": "stream",
          "text": [
            "Fitting 5 folds for each of 324 candidates, totalling 1620 fits\n"
          ]
        },
        {
          "name": "stderr",
          "output_type": "stream",
          "text": [
            "c:\\Users\\USER\\AppData\\Roaming\\Python\\Python311\\environments\\nlp\\lib\\site-packages\\sklearn\\model_selection\\_validation.py:425: FitFailedWarning: \n",
            "540 fits failed out of a total of 1620.\n",
            "The score on these train-test partitions for these parameters will be set to nan.\n",
            "If these failures are not expected, you can try to debug them by setting error_score='raise'.\n",
            "\n",
            "Below are more details about the failures:\n",
            "--------------------------------------------------------------------------------\n",
            "402 fits failed with the following error:\n",
            "Traceback (most recent call last):\n",
            "  File \"c:\\Users\\USER\\AppData\\Roaming\\Python\\Python311\\environments\\nlp\\lib\\site-packages\\sklearn\\model_selection\\_validation.py\", line 732, in _fit_and_score\n",
            "    estimator.fit(X_train, y_train, **fit_params)\n",
            "  File \"c:\\Users\\USER\\AppData\\Roaming\\Python\\Python311\\environments\\nlp\\lib\\site-packages\\sklearn\\base.py\", line 1144, in wrapper\n",
            "    estimator._validate_params()\n",
            "  File \"c:\\Users\\USER\\AppData\\Roaming\\Python\\Python311\\environments\\nlp\\lib\\site-packages\\sklearn\\base.py\", line 637, in _validate_params\n",
            "    validate_parameter_constraints(\n",
            "  File \"c:\\Users\\USER\\AppData\\Roaming\\Python\\Python311\\environments\\nlp\\lib\\site-packages\\sklearn\\utils\\_param_validation.py\", line 95, in validate_parameter_constraints\n",
            "    raise InvalidParameterError(\n",
            "sklearn.utils._param_validation.InvalidParameterError: The 'max_features' parameter of RandomForestClassifier must be an int in the range [1, inf), a float in the range (0.0, 1.0], a str among {'sqrt', 'log2'} or None. Got 'auto' instead.\n",
            "\n",
            "--------------------------------------------------------------------------------\n",
            "138 fits failed with the following error:\n",
            "Traceback (most recent call last):\n",
            "  File \"c:\\Users\\USER\\AppData\\Roaming\\Python\\Python311\\environments\\nlp\\lib\\site-packages\\sklearn\\model_selection\\_validation.py\", line 732, in _fit_and_score\n",
            "    estimator.fit(X_train, y_train, **fit_params)\n",
            "  File \"c:\\Users\\USER\\AppData\\Roaming\\Python\\Python311\\environments\\nlp\\lib\\site-packages\\sklearn\\base.py\", line 1144, in wrapper\n",
            "    estimator._validate_params()\n",
            "  File \"c:\\Users\\USER\\AppData\\Roaming\\Python\\Python311\\environments\\nlp\\lib\\site-packages\\sklearn\\base.py\", line 637, in _validate_params\n",
            "    validate_parameter_constraints(\n",
            "  File \"c:\\Users\\USER\\AppData\\Roaming\\Python\\Python311\\environments\\nlp\\lib\\site-packages\\sklearn\\utils\\_param_validation.py\", line 95, in validate_parameter_constraints\n",
            "    raise InvalidParameterError(\n",
            "sklearn.utils._param_validation.InvalidParameterError: The 'max_features' parameter of RandomForestClassifier must be an int in the range [1, inf), a float in the range (0.0, 1.0], a str among {'log2', 'sqrt'} or None. Got 'auto' instead.\n",
            "\n",
            "  warnings.warn(some_fits_failed_message, FitFailedWarning)\n",
            "c:\\Users\\USER\\AppData\\Roaming\\Python\\Python311\\environments\\nlp\\lib\\site-packages\\sklearn\\model_selection\\_search.py:976: UserWarning: One or more of the test scores are non-finite: [       nan        nan        nan        nan        nan        nan\n",
            "        nan        nan        nan        nan        nan        nan\n",
            "        nan        nan        nan        nan        nan        nan\n",
            "        nan        nan        nan        nan        nan        nan\n",
            "        nan        nan        nan 0.95756857 0.9548004  0.95572312\n",
            " 0.94742287 0.9511095  0.9511095  0.93911942 0.94143208 0.94004427\n",
            " 0.94373091 0.94649695 0.94788263 0.94142889 0.94372985 0.94373304\n",
            " 0.93543279 0.93773587 0.93681315 0.93404072 0.93081811 0.93035621\n",
            " 0.93542853 0.93450687 0.93127787 0.93312438 0.93173976 0.93312012\n",
            " 0.95342004 0.95664584 0.95664478 0.9501921  0.94649908 0.95018678\n",
            " 0.94280712 0.94142676 0.94050404 0.94373091 0.94650227 0.94557955\n",
            " 0.94695884 0.94372878 0.9437341  0.93588936 0.93958025 0.93773693\n",
            " 0.93173657 0.93127893 0.92989006 0.93220272 0.93220272 0.93173764\n",
            " 0.92942923 0.93035195 0.9294303         nan        nan        nan\n",
            "        nan        nan        nan        nan        nan        nan\n",
            "        nan        nan        nan        nan        nan        nan\n",
            "        nan        nan        nan        nan        nan        nan\n",
            "        nan        nan        nan        nan        nan        nan\n",
            " 0.9441928  0.94742393 0.94696204 0.9405051  0.94050297 0.94142783\n",
            " 0.93542853 0.93634912 0.93681315 0.93773906 0.93542853 0.93958451\n",
            " 0.93865753 0.93819776 0.93727504 0.93081598 0.93127574 0.93312225\n",
            " 0.92804781 0.92804568 0.92943562 0.92712508 0.92989538 0.92666319\n",
            " 0.92620662 0.93081598 0.92574366 0.94558061 0.94650121 0.94788582\n",
            " 0.9414257  0.94281244 0.94280925 0.93404498 0.93496876 0.93773268\n",
            " 0.93681315 0.93865859 0.9405051  0.9381967  0.93635125 0.93958238\n",
            " 0.93035408 0.93542746 0.9321974  0.92758911 0.92712615 0.92896947\n",
            " 0.92804781 0.92850651 0.92666958 0.92851077 0.92481774 0.92528283\n",
            "        nan        nan        nan        nan        nan        nan\n",
            "        nan        nan        nan        nan        nan        nan\n",
            "        nan        nan        nan        nan        nan        nan\n",
            "        nan        nan        nan        nan        nan        nan\n",
            "        nan        nan        nan 0.95710774 0.9552591  0.95618608\n",
            " 0.95018891 0.94972808 0.95157353 0.9381967  0.93911836 0.9414257\n",
            " 0.94419067 0.94327114 0.9441928  0.9469631  0.94373304 0.94281138\n",
            " 0.93404498 0.9405051  0.93727291 0.93312332 0.93081598 0.93127787\n",
            " 0.92759123 0.93404604 0.93358415 0.93127574 0.92989432 0.93173976\n",
            " 0.95664584 0.95572418 0.95849129 0.9501921  0.94973021 0.95064867\n",
            " 0.94234523 0.93912474 0.94234949 0.94280819 0.94511766 0.94327114\n",
            " 0.94234842 0.94465576 0.94419706 0.93681208 0.93635125 0.9372761\n",
            " 0.92897053 0.93035195 0.93358521 0.93404498 0.93127681 0.9326561\n",
            " 0.92989857 0.92896947 0.93220059        nan        nan        nan\n",
            "        nan        nan        nan        nan        nan        nan\n",
            "        nan        nan        nan        nan        nan        nan\n",
            "        nan        nan        nan        nan        nan        nan\n",
            "        nan        nan        nan        nan        nan        nan\n",
            " 0.95387554 0.95941614 0.95987378 0.95064654 0.95295814 0.94834453\n",
            " 0.93911942 0.94050617 0.93958557 0.94419387 0.94880748 0.94419174\n",
            " 0.94511553 0.94511659 0.94234842 0.93773587 0.93866072 0.9372793\n",
            " 0.93173764 0.93404604 0.93173764 0.93266249 0.93220059 0.93127787\n",
            " 0.92989219 0.93266142 0.93219634 0.95480146 0.95433957 0.95757069\n",
            " 0.9483392  0.95064867 0.95111163 0.94004108 0.9414257  0.94096593\n",
            " 0.94880216 0.94603719 0.9446547  0.9409638  0.94419493 0.94557955\n",
            " 0.93957919 0.94050723 0.94004321 0.93496557 0.93404391 0.93265929\n",
            " 0.93173764 0.92943349 0.93404498 0.93219953 0.92943455 0.93081598]\n",
            "  warnings.warn(\n"
          ]
        },
        {
          "name": "stdout",
          "output_type": "stream",
          "text": [
            "Best Parameters: {'max_depth': 30, 'max_features': 'sqrt', 'min_samples_leaf': 1, 'min_samples_split': 2, 'n_estimators': 300}\n",
            "Accuracy: 0.9630996309963099\n",
            "Classification Report:\n",
            "               precision    recall  f1-score   support\n",
            "\n",
            "           0       0.96      0.97      0.96       281\n",
            "           1       0.97      0.95      0.96       261\n",
            "\n",
            "    accuracy                           0.96       542\n",
            "   macro avg       0.96      0.96      0.96       542\n",
            "weighted avg       0.96      0.96      0.96       542\n",
            "\n"
          ]
        }
      ],
      "source": [
        "x = dataset[['Age', 'Gender', 'Color', 'Transparency', 'Glucose', 'Protein', 'WBC', 'RBC', 'Epithelial Cells', 'Mucous Threads', 'Amorphous Urates', 'Bacteria']]\n",
        "y = dataset['Diagnosis']\n",
        "\n",
        "x_train, x_test, y_train, y_test = train_test_split(x, y, test_size=0.2, random_state=42)\n",
        "\n",
        "param_grid = {\n",
        "    'n_estimators': [100, 200, 300],\n",
        "    'max_depth': [None, 10, 20, 30],\n",
        "    'min_samples_split': [2, 5, 10],\n",
        "    'min_samples_leaf': [1, 2, 4],\n",
        "    'max_features': ['auto', 'sqrt', 'log2']\n",
        "}\n",
        "\n",
        "grid_search = GridSearchCV(estimator=RandomForestClassifier(), param_grid=param_grid, cv=5, n_jobs=-1, verbose=2)\n",
        "\n",
        "grid_search.fit(x_train, y_train)\n",
        "\n",
        "best_model = grid_search.best_estimator_\n",
        "\n",
        "y_pred = best_model.predict(x_test)\n",
        "\n",
        "print('Best Parameters:', grid_search.best_params_)\n",
        "\n",
        "print('Accuracy:', accuracy_score(y_test, y_pred))\n",
        "print('Classification Report:\\n', classification_report(y_test, y_pred))"
      ]
    },
    {
      "cell_type": "code",
      "execution_count": 50,
      "metadata": {
        "colab": {
          "base_uri": "https://localhost:8080/",
          "height": 466
        },
        "id": "wKxBIJvZg5jk",
        "outputId": "3cc60469-a060-4372-e9d7-211ef2f0ffb1"
      },
      "outputs": [
        {
          "data": {
            "text/plain": [
              "<sklearn.metrics._plot.confusion_matrix.ConfusionMatrixDisplay at 0x24026149ab0>"
            ]
          },
          "execution_count": 50,
          "metadata": {},
          "output_type": "execute_result"
        },
        {
          "data": {
            "image/png": "[encoded data removed]",
            "text/plain": [
              "<Figure size 640x480 with 2 Axes>"
            ]
          },
          "metadata": {},
          "output_type": "display_data"
        }
      ],
      "source": [
        "ConfusionMatrixDisplay.from_estimator(best_model,x_test,y_test)"
      ]
    },
    {
      "cell_type": "code",
      "execution_count": 51,
      "metadata": {
        "id": "g8LzTRWBQB_H"
      },
      "outputs": [],
      "source": [
        "import pickle\n",
        "\n",
        "with open('gaussian_model.pkl', 'wb') as f:\n",
        "  pickle.dump(gaussian_model, f)\n",
        "\n",
        "with open('random_forest_model.pkl', 'wb') as f:\n",
        "  pickle.dump(best_model, f)\n",
        "\n",
        "with open('svc_model.pkl', 'wb') as f:\n",
        "  pickle.dump(svc_model, f)\n",
        "\n",
        "with open('xgb_model.pkl', 'wb') as f:\n",
        "  pickle.dump(xgb_model, f)"
      ]
    },
    {
      "cell_type": "code",
      "execution_count": 52,
      "metadata": {
        "colab": {
          "base_uri": "https://localhost:8080/",
          "height": 519
        },
        "id": "RtRYhfPkdhKx",
        "outputId": "8797bfa8-18e7-4ab3-ee6d-6d8ede209adb"
      },
      "outputs": [
        {
          "data": {
            "text/html": [
              "<div>\n",
              "<style scoped>\n",
              "    .dataframe tbody tr th:only-of-type {\n",
              "        vertical-align: middle;\n",
              "    }\n",
              "\n",
              "    .dataframe tbody tr th {\n",
              "        vertical-align: top;\n",
              "    }\n",
              "\n",
              "    .dataframe thead th {\n",
              "        text-align: right;\n",
              "    }\n",
              "</style>\n",
              "<table border=\"1\" class=\"dataframe\">\n",
              "  <thead>\n",
              "    <tr style=\"text-align: right;\">\n",
              "      <th></th>\n",
              "      <th>Unnamed: 0</th>\n",
              "      <th>Age</th>\n",
              "      <th>Gender</th>\n",
              "      <th>Color</th>\n",
              "      <th>Transparency</th>\n",
              "      <th>Glucose</th>\n",
              "      <th>Protein</th>\n",
              "      <th>WBC</th>\n",
              "      <th>RBC</th>\n",
              "      <th>Epithelial Cells</th>\n",
              "      <th>Mucous Threads</th>\n",
              "      <th>Amorphous Urates</th>\n",
              "      <th>Bacteria</th>\n",
              "    </tr>\n",
              "  </thead>\n",
              "  <tbody>\n",
              "    <tr>\n",
              "      <th>0</th>\n",
              "      <td>0</td>\n",
              "      <td>76.0</td>\n",
              "      <td>FEMALE</td>\n",
              "      <td>LIGHT YELLOW</td>\n",
              "      <td>CLEAR</td>\n",
              "      <td>NEGATIVE</td>\n",
              "      <td>NEGATIVE</td>\n",
              "      <td>1-3</td>\n",
              "      <td>0-2</td>\n",
              "      <td>OCCASIONAL</td>\n",
              "      <td>RARE</td>\n",
              "      <td>NONE SEEN</td>\n",
              "      <td>OCCASIONAL</td>\n",
              "    </tr>\n",
              "    <tr>\n",
              "      <th>1</th>\n",
              "      <td>1</td>\n",
              "      <td>9.0</td>\n",
              "      <td>MALE</td>\n",
              "      <td>DARK YELLOW</td>\n",
              "      <td>SLIGHTLY HAZY</td>\n",
              "      <td>NEGATIVE</td>\n",
              "      <td>1+</td>\n",
              "      <td>1-3</td>\n",
              "      <td>0-2</td>\n",
              "      <td>RARE</td>\n",
              "      <td>FEW</td>\n",
              "      <td>FEW</td>\n",
              "      <td>MODERATE</td>\n",
              "    </tr>\n",
              "    <tr>\n",
              "      <th>2</th>\n",
              "      <td>2</td>\n",
              "      <td>12.0</td>\n",
              "      <td>MALE</td>\n",
              "      <td>LIGHT YELLOW</td>\n",
              "      <td>SLIGHTLY HAZY</td>\n",
              "      <td>NEGATIVE</td>\n",
              "      <td>TRACE</td>\n",
              "      <td>0-3</td>\n",
              "      <td>0-2</td>\n",
              "      <td>RARE</td>\n",
              "      <td>FEW</td>\n",
              "      <td>MODERATE</td>\n",
              "      <td>RARE</td>\n",
              "    </tr>\n",
              "    <tr>\n",
              "      <th>3</th>\n",
              "      <td>3</td>\n",
              "      <td>77.0</td>\n",
              "      <td>MALE</td>\n",
              "      <td>BROWN</td>\n",
              "      <td>CLOUDY</td>\n",
              "      <td>NEGATIVE</td>\n",
              "      <td>1+</td>\n",
              "      <td>5-8</td>\n",
              "      <td>LOADED</td>\n",
              "      <td>RARE</td>\n",
              "      <td>RARE</td>\n",
              "      <td>NONE SEEN</td>\n",
              "      <td>FEW</td>\n",
              "    </tr>\n",
              "    <tr>\n",
              "      <th>4</th>\n",
              "      <td>4</td>\n",
              "      <td>29.0</td>\n",
              "      <td>FEMALE</td>\n",
              "      <td>YELLOW</td>\n",
              "      <td>HAZY</td>\n",
              "      <td>NEGATIVE</td>\n",
              "      <td>TRACE</td>\n",
              "      <td>1-4</td>\n",
              "      <td>0-2</td>\n",
              "      <td>RARE</td>\n",
              "      <td>RARE</td>\n",
              "      <td>NONE SEEN</td>\n",
              "      <td>FEW</td>\n",
              "    </tr>\n",
              "    <tr>\n",
              "      <th>5</th>\n",
              "      <td>5</td>\n",
              "      <td>50.0</td>\n",
              "      <td>FEMALE</td>\n",
              "      <td>DARK YELLOW</td>\n",
              "      <td>HAZY</td>\n",
              "      <td>NEGATIVE</td>\n",
              "      <td>2+</td>\n",
              "      <td>0-3</td>\n",
              "      <td>0-2</td>\n",
              "      <td>PLENTY</td>\n",
              "      <td>FEW</td>\n",
              "      <td>NONE SEEN</td>\n",
              "      <td>FEW</td>\n",
              "    </tr>\n",
              "    <tr>\n",
              "      <th>6</th>\n",
              "      <td>6</td>\n",
              "      <td>3.0</td>\n",
              "      <td>MALE</td>\n",
              "      <td>LIGHT YELLOW</td>\n",
              "      <td>CLEAR</td>\n",
              "      <td>NEGATIVE</td>\n",
              "      <td>NEGATIVE</td>\n",
              "      <td>0-3</td>\n",
              "      <td>0-2</td>\n",
              "      <td>RARE</td>\n",
              "      <td>RARE</td>\n",
              "      <td>NONE SEEN</td>\n",
              "      <td>RARE</td>\n",
              "    </tr>\n",
              "    <tr>\n",
              "      <th>7</th>\n",
              "      <td>7</td>\n",
              "      <td>23.0</td>\n",
              "      <td>FEMALE</td>\n",
              "      <td>LIGHT YELLOW</td>\n",
              "      <td>SLIGHTLY HAZY</td>\n",
              "      <td>NEGATIVE</td>\n",
              "      <td>NEGATIVE</td>\n",
              "      <td>3-5</td>\n",
              "      <td>1-2</td>\n",
              "      <td>MODERATE</td>\n",
              "      <td>FEW</td>\n",
              "      <td>NONE SEEN</td>\n",
              "      <td>FEW</td>\n",
              "    </tr>\n",
              "    <tr>\n",
              "      <th>8</th>\n",
              "      <td>8</td>\n",
              "      <td>8.0</td>\n",
              "      <td>MALE</td>\n",
              "      <td>YELLOW</td>\n",
              "      <td>SLIGHTLY HAZY</td>\n",
              "      <td>NEGATIVE</td>\n",
              "      <td>TRACE</td>\n",
              "      <td>1-3</td>\n",
              "      <td>0-2</td>\n",
              "      <td>RARE</td>\n",
              "      <td>FEW</td>\n",
              "      <td>NONE SEEN</td>\n",
              "      <td>FEW</td>\n",
              "    </tr>\n",
              "    <tr>\n",
              "      <th>9</th>\n",
              "      <td>9</td>\n",
              "      <td>2.0</td>\n",
              "      <td>FEMALE</td>\n",
              "      <td>YELLOW</td>\n",
              "      <td>HAZY</td>\n",
              "      <td>NEGATIVE</td>\n",
              "      <td>TRACE</td>\n",
              "      <td>70-75</td>\n",
              "      <td>2-4</td>\n",
              "      <td>RARE</td>\n",
              "      <td>FEW</td>\n",
              "      <td>NONE SEEN</td>\n",
              "      <td>PLENTY</td>\n",
              "    </tr>\n",
              "  </tbody>\n",
              "</table>\n",
              "</div>"
            ],
            "text/plain": [
              "   Unnamed: 0   Age  Gender         Color   Transparency   Glucose   Protein  \\\n",
              "0           0  76.0  FEMALE  LIGHT YELLOW          CLEAR  NEGATIVE  NEGATIVE   \n",
              "1           1   9.0    MALE   DARK YELLOW  SLIGHTLY HAZY  NEGATIVE        1+   \n",
              "2           2  12.0    MALE  LIGHT YELLOW  SLIGHTLY HAZY  NEGATIVE     TRACE   \n",
              "3           3  77.0    MALE         BROWN         CLOUDY  NEGATIVE        1+   \n",
              "4           4  29.0  FEMALE        YELLOW           HAZY  NEGATIVE     TRACE   \n",
              "5           5  50.0  FEMALE   DARK YELLOW           HAZY  NEGATIVE        2+   \n",
              "6           6   3.0    MALE  LIGHT YELLOW          CLEAR  NEGATIVE  NEGATIVE   \n",
              "7           7  23.0  FEMALE  LIGHT YELLOW  SLIGHTLY HAZY  NEGATIVE  NEGATIVE   \n",
              "8           8   8.0    MALE        YELLOW  SLIGHTLY HAZY  NEGATIVE     TRACE   \n",
              "9           9   2.0  FEMALE        YELLOW           HAZY  NEGATIVE     TRACE   \n",
              "\n",
              "     WBC     RBC Epithelial Cells Mucous Threads Amorphous Urates    Bacteria  \n",
              "0    1-3     0-2       OCCASIONAL           RARE        NONE SEEN  OCCASIONAL  \n",
              "1    1-3     0-2             RARE            FEW              FEW    MODERATE  \n",
              "2    0-3     0-2             RARE            FEW         MODERATE        RARE  \n",
              "3    5-8  LOADED             RARE           RARE        NONE SEEN         FEW  \n",
              "4    1-4     0-2             RARE           RARE        NONE SEEN         FEW  \n",
              "5    0-3     0-2           PLENTY            FEW        NONE SEEN         FEW  \n",
              "6    0-3     0-2             RARE           RARE        NONE SEEN        RARE  \n",
              "7    3-5     1-2         MODERATE            FEW        NONE SEEN         FEW  \n",
              "8    1-3     0-2             RARE            FEW        NONE SEEN         FEW  \n",
              "9  70-75     2-4             RARE            FEW        NONE SEEN      PLENTY  "
            ]
          },
          "execution_count": 52,
          "metadata": {},
          "output_type": "execute_result"
        }
      ],
      "source": [
        "test_data = {\n",
        "    'Unnamed: 0': range(20),\n",
        "    'Age': [76.0, 9.0, 12.0, 77.0, 29.0, 50.0, 3.0, 23.0, 8.0, 2.0, 65.0, 62.0, 18.0, 3.0, 31.0, 44.0, 32.0, 26.0, 1.0, 30.0],\n",
        "    'Gender': ['FEMALE', 'MALE', 'MALE', 'MALE', 'FEMALE', 'FEMALE', 'MALE', 'FEMALE', 'MALE', 'FEMALE', 'MALE', 'FEMALE', 'FEMALE', 'FEMALE', 'FEMALE', 'MALE', 'FEMALE', 'MALE', 'MALE', 'FEMALE'],\n",
        "    'Color': ['LIGHT YELLOW', 'DARK YELLOW', 'LIGHT YELLOW', 'BROWN', 'YELLOW', 'DARK YELLOW', 'LIGHT YELLOW', 'LIGHT YELLOW', 'YELLOW', 'YELLOW', 'LIGHT YELLOW', 'LIGHT YELLOW', 'LIGHT YELLOW', 'DARK YELLOW', 'YELLOW', 'AMBER', 'LIGHT YELLOW', 'YELLOW', 'YELLOW', 'STRAW'],\n",
        "    'Transparency': ['CLEAR', 'SLIGHTLY HAZY', 'SLIGHTLY HAZY', 'CLOUDY', 'HAZY', 'HAZY', 'CLEAR', 'SLIGHTLY HAZY', 'SLIGHTLY HAZY', 'HAZY', 'CLEAR', 'CLEAR', 'CLEAR', 'CLEAR', 'CLEAR', 'CLEAR', 'CLOUDY', 'CLEAR', 'CLEAR', 'CLEAR'],\n",
        "    'Glucose': ['NEGATIVE', 'NEGATIVE', 'NEGATIVE', 'NEGATIVE', 'NEGATIVE', 'NEGATIVE', 'NEGATIVE', 'NEGATIVE', 'NEGATIVE', 'NEGATIVE', 'NEGATIVE', 'NEGATIVE', 'NEGATIVE', 'NEGATIVE', 'NEGATIVE', 'NEGATIVE', 'NEGATIVE', 'NEGATIVE', 'NEGATIVE', 'NEGATIVE'],\n",
        "    'Protein': ['NEGATIVE', '1+', 'TRACE', '1+', 'TRACE', '2+', 'NEGATIVE', 'NEGATIVE', 'TRACE', 'TRACE', 'NEGATIVE', 'TRACE', 'NEGATIVE', 'TRACE', 'NEGATIVE', '1+', 'TRACE', 'NEGATIVE', 'NEGATIVE', 'NEGATIVE'],\n",
        "    #'pH': [5.0, 5.0, 5.0, 6.0, 6.0, 6.0, 7.0, 7.0, 6.0, 7.5, 6.0, 6.0, 6.5, 6.0, 6.0, 6.0, 6.5, 6.0, 6.0, 6.5],\n",
        "    #'Specific Gravity': [1.010, 1.030, 1.030, 1.020, 1.025, 1.020, 1.005, 1.005, 1.030, 1.010, 1.010, 1.020, 1.005, 1.025, 1.015, 1.020, 1.015, 1.015, 1.030, 1.005],\n",
        "    'WBC': ['1-3', '1-3', '0-3', '5-8', '1-4', '0-3', '0-3', '3-5', '1-3', '70-75', '0-2', '1-3', '0-2', '0-2', '1-2', '2-4', '6-8', '1-3', '1-2', '0-2'],\n",
        "    'RBC': ['0-2', '0-2', '0-2', 'LOADED', '0-2', '0-2', '0-2', '1-2', '0-2', '2-4', '0-1', '6-14', '2-4', '1-2', '0-2', '9-12', '0-2', '0-2', '0-2', '1-3'],\n",
        "    'Epithelial Cells': ['OCCASIONAL', 'RARE', 'RARE', 'RARE', 'RARE', 'PLENTY', 'RARE', 'MODERATE', 'RARE', 'RARE', 'RARE', 'FEW', 'RARE', 'RARE', 'PLENTY', 'RARE', 'FEW', 'RARE', 'RARE', 'RARE'],\n",
        "    'Mucous Threads': ['RARE', 'FEW', 'FEW', 'RARE', 'RARE', 'FEW', 'RARE', 'FEW', 'FEW', 'FEW', 'RARE', 'RARE', 'NONE SEEN', 'MODERATE', 'FEW', 'RARE', 'NONE SEEN', 'FEW', 'MODERATE', 'NONE SEEN'],\n",
        "    'Amorphous Urates': ['NONE SEEN', 'FEW', 'MODERATE', 'NONE SEEN', 'NONE SEEN', 'NONE SEEN', 'NONE SEEN', 'NONE SEEN', 'NONE SEEN', 'NONE SEEN', 'NONE SEEN', 'NONE SEEN', 'NONE SEEN', 'NONE SEEN', 'NONE SEEN', 'NONE SEEN', 'PLENTY', 'NONE SEEN', 'NONE SEEN', 'NONE SEEN'],\n",
        "    'Bacteria': ['OCCASIONAL', 'MODERATE', 'RARE', 'FEW', 'FEW', 'FEW', 'RARE', 'FEW', 'FEW', 'PLENTY', 'RARE', 'FEW', 'RARE', 'RARE', 'FEW', 'MODERATE', 'RARE', 'RARE', 'MODERATE', 'RARE'],\n",
        "}\n",
        "\n",
        "test_df = pd.DataFrame(test_data)\n",
        "\n",
        "test_df.head(10)"
      ]
    },
    {
      "cell_type": "code",
      "execution_count": 53,
      "metadata": {
        "colab": {
          "base_uri": "https://localhost:8080/"
        },
        "id": "4xP_7HVSd1B9",
        "outputId": "d788b7cf-1e77-47d0-f804-7ccf911ba57b"
      },
      "outputs": [
        {
          "name": "stdout",
          "output_type": "stream",
          "text": [
            "Gaussian Model Predictions: [1 1 1 1 1 1 1 1 1 1 1 1 1 1 1 1 1 1 1 1]\n",
            "SVC Model Predictions: [0 0 0 1 0 0 0 1 0 1 0 1 0 0 0 1 1 0 0 0]\n",
            "XGB Model Predictions: [1 1 1 0 0 0 1 0 0 1 1 0 1 1 1 0 1 1 1 1]\n",
            "Random Forest Model Predictions: [0 0 0 0 0 0 0 0 0 1 1 0 0 0 1 0 1 1 1 0]\n"
          ]
        }
      ],
      "source": [
        "\n",
        "for column in ['Gender', 'Color', 'Transparency', 'Glucose', 'Protein', 'WBC', 'RBC', 'Epithelial Cells', 'Mucous Threads', 'Amorphous Urates', 'Bacteria']:\n",
        "  test_df[column] = encoder.fit_transform(test_df[column])\n",
        "\n",
        "\n",
        "X_test = test_df[['Age', 'Gender', 'Color', 'Transparency', 'Glucose', 'Protein', 'WBC', 'RBC', 'Epithelial Cells', 'Mucous Threads', 'Amorphous Urates', 'Bacteria']]\n",
        "\n",
        "\n",
        "with open('gaussian_model.pkl', 'rb') as f:\n",
        "  gaussian_model = pickle.load(f)\n",
        "\n",
        "y_pred_gaussian = gaussian_model.predict(X_test)\n",
        "\n",
        "print('Gaussian Model Predictions:', y_pred_gaussian)\n",
        "\n",
        "with open('svc_model.pkl', 'rb') as f:\n",
        "  svc_model = pickle.load(f)\n",
        "\n",
        "y_pred_svc = svc_model.predict(X_test)\n",
        "\n",
        "print('SVC Model Predictions:', y_pred_svc)\n",
        "\n",
        "with open('xgb_model.pkl', 'rb') as f:\n",
        "  xgb_model = pickle.load(f)\n",
        "\n",
        "y_pred_xgb = xgb_model.predict(X_test)\n",
        "\n",
        "print('XGB Model Predictions:', y_pred_xgb)\n",
        "\n",
        "with open('random_forest_model.pkl', 'rb') as f:\n",
        "  best_model = pickle.load(f)\n",
        "\n",
        "y_pred_rf = best_model.predict(X_test)\n",
        "\n",
        "print('Random Forest Model Predictions:', y_pred_rf)\n",
        "\n"
      ]
    }
  ],
  "metadata": {
    "colab": {
      "provenance": []
    },
    "kernelspec": {
      "display_name": "Python 3",
      "name": "python3"
    },
    "language_info": {
      "codemirror_mode": {
        "name": "ipython",
        "version": 3
      },
      "file_extension": ".py",
      "mimetype": "text/x-python",
      "name": "python",
      "nbconvert_exporter": "python",
      "pygments_lexer": "ipython3",
      "version": "3.10.9"
    }
  },
  "nbformat": 4,
  "nbformat_minor": 0
}
